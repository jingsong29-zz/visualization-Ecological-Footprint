{
 "cells": [
  {
   "cell_type": "code",
   "execution_count": 1,
   "metadata": {},
   "outputs": [],
   "source": [
    "import plotly\n",
    "plotly.__version__\n",
    "import os\n",
    "import plotly.plotly as py\n",
    "from plotly.grid_objs import Grid, Column\n",
    "from plotly.tools import FigureFactory as FF \n",
    "\n",
    "import time\n",
    "from datetime import datetime\n",
    "import numpy as np\n",
    "import pandas as pd\n",
    "plotly.tools.set_credentials_file(username='fliu23', api_key='UX4p9CdJUmj67JmpsEuL')"
   ]
  },
  {
   "cell_type": "code",
   "execution_count": 12,
   "metadata": {},
   "outputs": [],
   "source": [
    "#location of footprint data \n",
    "path='/Users/xiaohui/Documents/0_2017_USF/MSAN_622_DataVis/final/visualization-Ecological-Footprint/data/footprint/country_trends'"
   ]
  },
  {
   "cell_type": "markdown",
   "metadata": {},
   "source": [
    "## Make grid"
   ]
  },
  {
   "cell_type": "markdown",
   "metadata": {},
   "source": [
    "#### 1. Asian"
   ]
  },
  {
   "cell_type": "code",
   "execution_count": 57,
   "metadata": {},
   "outputs": [
    {
     "data": {
      "text/html": [
       "<div>\n",
       "<style scoped>\n",
       "    .dataframe tbody tr th:only-of-type {\n",
       "        vertical-align: middle;\n",
       "    }\n",
       "\n",
       "    .dataframe tbody tr th {\n",
       "        vertical-align: top;\n",
       "    }\n",
       "\n",
       "    .dataframe thead th {\n",
       "        text-align: right;\n",
       "    }\n",
       "</style>\n",
       "<table border=\"1\" class=\"dataframe\">\n",
       "  <thead>\n",
       "    <tr style=\"text-align: right;\">\n",
       "      <th></th>\n",
       "      <th>Country Name</th>\n",
       "      <th>year</th>\n",
       "      <th>Total</th>\n",
       "    </tr>\n",
       "  </thead>\n",
       "  <tbody>\n",
       "    <tr>\n",
       "      <th>1</th>\n",
       "      <td>Asia</td>\n",
       "      <td>1961</td>\n",
       "      <td>1.584773e+09</td>\n",
       "    </tr>\n",
       "  </tbody>\n",
       "</table>\n",
       "</div>"
      ],
      "text/plain": [
       "  Country Name  year         Total\n",
       "1         Asia  1961  1.584773e+09"
      ]
     },
     "execution_count": 57,
     "metadata": {},
     "output_type": "execute_result"
    }
   ],
   "source": [
    "asian_total = pd.read_csv(os.path.join(path, \"asia/Ecological Footprint vs Biocapacity (gha).csv\"))\n",
    "ef_asian_total = asian_total.loc[asian_total.Record=='EFConsTotGHA',['Country Name','year','Total']]\n",
    "ef_asian_total.head(1)"
   ]
  },
  {
   "cell_type": "code",
   "execution_count": 58,
   "metadata": {},
   "outputs": [],
   "source": [
    "years = ef_asian_total.year.tolist()"
   ]
  },
  {
   "cell_type": "code",
   "execution_count": 59,
   "metadata": {},
   "outputs": [
    {
     "data": {
      "text/plain": [
       "'https://plot.ly/~fliu23/291/'"
      ]
     },
     "execution_count": 59,
     "metadata": {},
     "output_type": "execute_result"
    }
   ],
   "source": [
    "my_columns = []\n",
    "my_columns.append(Column(['Asian'], 'x'))\n",
    "for index, row in ef_asian_total.iterrows():\n",
    "    my_columns.append(Column([row.Total], 'y{}'.format(row.year)))   \n",
    "grid1 = Grid(my_columns)\n",
    "py.grid_ops.upload(grid1, 'Asian' + str(time.time()), auto_open=False)"
   ]
  },
  {
   "cell_type": "markdown",
   "metadata": {},
   "source": [
    "#### 2. Europe"
   ]
  },
  {
   "cell_type": "code",
   "execution_count": 60,
   "metadata": {},
   "outputs": [
    {
     "data": {
      "text/html": [
       "<div>\n",
       "<style scoped>\n",
       "    .dataframe tbody tr th:only-of-type {\n",
       "        vertical-align: middle;\n",
       "    }\n",
       "\n",
       "    .dataframe tbody tr th {\n",
       "        vertical-align: top;\n",
       "    }\n",
       "\n",
       "    .dataframe thead th {\n",
       "        text-align: right;\n",
       "    }\n",
       "</style>\n",
       "<table border=\"1\" class=\"dataframe\">\n",
       "  <thead>\n",
       "    <tr style=\"text-align: right;\">\n",
       "      <th></th>\n",
       "      <th>Country Name</th>\n",
       "      <th>year</th>\n",
       "      <th>Total</th>\n",
       "    </tr>\n",
       "  </thead>\n",
       "  <tbody>\n",
       "    <tr>\n",
       "      <th>1</th>\n",
       "      <td>Europe</td>\n",
       "      <td>1961</td>\n",
       "      <td>1.497278e+09</td>\n",
       "    </tr>\n",
       "  </tbody>\n",
       "</table>\n",
       "</div>"
      ],
      "text/plain": [
       "  Country Name  year         Total\n",
       "1       Europe  1961  1.497278e+09"
      ]
     },
     "execution_count": 60,
     "metadata": {},
     "output_type": "execute_result"
    }
   ],
   "source": [
    "europe_total = pd.read_csv(os.path.join(path, \"europe/Ecological Footprint vs Biocapacity (gha).csv\"))\n",
    "ef_europe_total = europe_total.loc[asian_total.Record=='EFConsTotGHA',['Country Name','year','Total']]\n",
    "ef_europe_total.head(1)"
   ]
  },
  {
   "cell_type": "code",
   "execution_count": 61,
   "metadata": {},
   "outputs": [
    {
     "data": {
      "text/plain": [
       "'https://plot.ly/~fliu23/292/'"
      ]
     },
     "execution_count": 61,
     "metadata": {},
     "output_type": "execute_result"
    }
   ],
   "source": [
    "my_columns = []\n",
    "my_columns.append(Column(['Europe'], 'x'))\n",
    "for index, row in ef_europe_total.iterrows():\n",
    "    my_columns.append(Column([row.Total], 'y{}'.format(row.year)))   \n",
    "grid2 = Grid(my_columns)\n",
    "py.grid_ops.upload(grid2, 'Europe' + str(time.time()), auto_open=False)"
   ]
  },
  {
   "cell_type": "markdown",
   "metadata": {},
   "source": [
    "#### 3. north-america"
   ]
  },
  {
   "cell_type": "code",
   "execution_count": 62,
   "metadata": {},
   "outputs": [
    {
     "data": {
      "text/html": [
       "<div>\n",
       "<style scoped>\n",
       "    .dataframe tbody tr th:only-of-type {\n",
       "        vertical-align: middle;\n",
       "    }\n",
       "\n",
       "    .dataframe tbody tr th {\n",
       "        vertical-align: top;\n",
       "    }\n",
       "\n",
       "    .dataframe thead th {\n",
       "        text-align: right;\n",
       "    }\n",
       "</style>\n",
       "<table border=\"1\" class=\"dataframe\">\n",
       "  <thead>\n",
       "    <tr style=\"text-align: right;\">\n",
       "      <th></th>\n",
       "      <th>Country Name</th>\n",
       "      <th>year</th>\n",
       "      <th>Total</th>\n",
       "    </tr>\n",
       "  </thead>\n",
       "  <tbody>\n",
       "    <tr>\n",
       "      <th>1</th>\n",
       "      <td>North America</td>\n",
       "      <td>1961</td>\n",
       "      <td>1.658883e+09</td>\n",
       "    </tr>\n",
       "  </tbody>\n",
       "</table>\n",
       "</div>"
      ],
      "text/plain": [
       "    Country Name  year         Total\n",
       "1  North America  1961  1.658883e+09"
      ]
     },
     "execution_count": 62,
     "metadata": {},
     "output_type": "execute_result"
    }
   ],
   "source": [
    "north_america_total = pd.read_csv(os.path.join(path, \"north_america/Ecological Footprint vs Biocapacity (gha).csv\"))\n",
    "ef_north_america_total = north_america_total.loc[north_america_total.Record=='EFConsTotGHA',['Country Name','year','Total']]\n",
    "ef_north_america_total.head(1)"
   ]
  },
  {
   "cell_type": "code",
   "execution_count": 63,
   "metadata": {},
   "outputs": [
    {
     "data": {
      "text/plain": [
       "'https://plot.ly/~fliu23/293/'"
      ]
     },
     "execution_count": 63,
     "metadata": {},
     "output_type": "execute_result"
    }
   ],
   "source": [
    "my_columns = []\n",
    "my_columns.append(Column(['North America'], 'x'))\n",
    "for index, row in ef_north_america_total.iterrows():\n",
    "    my_columns.append(Column([row.Total], 'y{}'.format(row.year)))   \n",
    "grid3 = Grid(my_columns)\n",
    "py.grid_ops.upload(grid3, 'Europe' + str(time.time()), auto_open=False)"
   ]
  },
  {
   "cell_type": "markdown",
   "metadata": {},
   "source": [
    "#### 4. latin_america_and_carribbean"
   ]
  },
  {
   "cell_type": "code",
   "execution_count": 64,
   "metadata": {},
   "outputs": [
    {
     "data": {
      "text/html": [
       "<div>\n",
       "<style scoped>\n",
       "    .dataframe tbody tr th:only-of-type {\n",
       "        vertical-align: middle;\n",
       "    }\n",
       "\n",
       "    .dataframe tbody tr th {\n",
       "        vertical-align: top;\n",
       "    }\n",
       "\n",
       "    .dataframe thead th {\n",
       "        text-align: right;\n",
       "    }\n",
       "</style>\n",
       "<table border=\"1\" class=\"dataframe\">\n",
       "  <thead>\n",
       "    <tr style=\"text-align: right;\">\n",
       "      <th></th>\n",
       "      <th>Country Name</th>\n",
       "      <th>year</th>\n",
       "      <th>Total</th>\n",
       "    </tr>\n",
       "  </thead>\n",
       "  <tbody>\n",
       "    <tr>\n",
       "      <th>0</th>\n",
       "      <td>Latin America and the Caribbean</td>\n",
       "      <td>1961</td>\n",
       "      <td>4.790472e+08</td>\n",
       "    </tr>\n",
       "  </tbody>\n",
       "</table>\n",
       "</div>"
      ],
      "text/plain": [
       "                      Country Name  year         Total\n",
       "0  Latin America and the Caribbean  1961  4.790472e+08"
      ]
     },
     "execution_count": 64,
     "metadata": {},
     "output_type": "execute_result"
    }
   ],
   "source": [
    "latin_am_total = pd.read_csv(os.path.join(path, \"latin_america_and_carribbean/Ecological Footprint vs Biocapacity (gha).csv\"))\n",
    "ef_latin_am_total = latin_am_total.loc[latin_am_total.Record=='EFConsTotGHA',['Country Name','year','Total']]\n",
    "ef_latin_am_total.head(1)"
   ]
  },
  {
   "cell_type": "code",
   "execution_count": 65,
   "metadata": {},
   "outputs": [
    {
     "data": {
      "text/plain": [
       "'https://plot.ly/~fliu23/294/'"
      ]
     },
     "execution_count": 65,
     "metadata": {},
     "output_type": "execute_result"
    }
   ],
   "source": [
    "my_columns = []\n",
    "my_columns.append(Column(['Latin America/Carribbean'], 'x'))\n",
    "for index, row in ef_latin_am_total.iterrows():\n",
    "    my_columns.append(Column([row.Total], 'y{}'.format(row.year)))   \n",
    "grid4 = Grid(my_columns)\n",
    "py.grid_ops.upload(grid4, 'Latin America_Carribbean' + str(time.time()), auto_open=False)"
   ]
  },
  {
   "cell_type": "markdown",
   "metadata": {},
   "source": [
    "#### 5. africa"
   ]
  },
  {
   "cell_type": "code",
   "execution_count": 66,
   "metadata": {},
   "outputs": [
    {
     "data": {
      "text/html": [
       "<div>\n",
       "<style scoped>\n",
       "    .dataframe tbody tr th:only-of-type {\n",
       "        vertical-align: middle;\n",
       "    }\n",
       "\n",
       "    .dataframe tbody tr th {\n",
       "        vertical-align: top;\n",
       "    }\n",
       "\n",
       "    .dataframe thead th {\n",
       "        text-align: right;\n",
       "    }\n",
       "</style>\n",
       "<table border=\"1\" class=\"dataframe\">\n",
       "  <thead>\n",
       "    <tr style=\"text-align: right;\">\n",
       "      <th></th>\n",
       "      <th>Country Name</th>\n",
       "      <th>year</th>\n",
       "      <th>Total</th>\n",
       "    </tr>\n",
       "  </thead>\n",
       "  <tbody>\n",
       "    <tr>\n",
       "      <th>1</th>\n",
       "      <td>Africa</td>\n",
       "      <td>1961</td>\n",
       "      <td>2.139392e+08</td>\n",
       "    </tr>\n",
       "  </tbody>\n",
       "</table>\n",
       "</div>"
      ],
      "text/plain": [
       "  Country Name  year         Total\n",
       "1       Africa  1961  2.139392e+08"
      ]
     },
     "execution_count": 66,
     "metadata": {},
     "output_type": "execute_result"
    }
   ],
   "source": [
    "africa_total = pd.read_csv(os.path.join(path, \"africa/Ecological Footprint vs Biocapacity (gha).csv\"))\n",
    "ef_africa_total = africa_total.loc[africa_total.Record=='EFConsTotGHA',['Country Name','year','Total']]\n",
    "ef_africa_total.head(1)"
   ]
  },
  {
   "cell_type": "code",
   "execution_count": 67,
   "metadata": {},
   "outputs": [
    {
     "data": {
      "text/plain": [
       "'https://plot.ly/~fliu23/295/'"
      ]
     },
     "execution_count": 67,
     "metadata": {},
     "output_type": "execute_result"
    }
   ],
   "source": [
    "my_columns = []\n",
    "my_columns.append(Column(['Africa'], 'x'))\n",
    "for index, row in ef_africa_total.iterrows():\n",
    "    my_columns.append(Column([row.Total], 'y{}'.format(row.year)))   \n",
    "grid5 = Grid(my_columns)\n",
    "py.grid_ops.upload(grid5, 'Africa' + str(time.time()), auto_open=False)"
   ]
  },
  {
   "cell_type": "markdown",
   "metadata": {},
   "source": [
    "#### 6. oceania"
   ]
  },
  {
   "cell_type": "code",
   "execution_count": 68,
   "metadata": {},
   "outputs": [
    {
     "data": {
      "text/html": [
       "<div>\n",
       "<style scoped>\n",
       "    .dataframe tbody tr th:only-of-type {\n",
       "        vertical-align: middle;\n",
       "    }\n",
       "\n",
       "    .dataframe tbody tr th {\n",
       "        vertical-align: top;\n",
       "    }\n",
       "\n",
       "    .dataframe thead th {\n",
       "        text-align: right;\n",
       "    }\n",
       "</style>\n",
       "<table border=\"1\" class=\"dataframe\">\n",
       "  <thead>\n",
       "    <tr style=\"text-align: right;\">\n",
       "      <th></th>\n",
       "      <th>Country Name</th>\n",
       "      <th>year</th>\n",
       "      <th>Total</th>\n",
       "    </tr>\n",
       "  </thead>\n",
       "  <tbody>\n",
       "    <tr>\n",
       "      <th>0</th>\n",
       "      <td>Oceania</td>\n",
       "      <td>1961</td>\n",
       "      <td>7.886380e+07</td>\n",
       "    </tr>\n",
       "  </tbody>\n",
       "</table>\n",
       "</div>"
      ],
      "text/plain": [
       "  Country Name  year         Total\n",
       "0      Oceania  1961  7.886380e+07"
      ]
     },
     "execution_count": 68,
     "metadata": {},
     "output_type": "execute_result"
    }
   ],
   "source": [
    "oceania_total = pd.read_csv(os.path.join(path, \"oceania/Ecological Footprint vs Biocapacity (gha).csv\"))\n",
    "ef_oceania_total = oceania_total.loc[oceania_total.Record=='EFConsTotGHA',['Country Name','year','Total']]\n",
    "ef_oceania_total.head(1)"
   ]
  },
  {
   "cell_type": "code",
   "execution_count": 69,
   "metadata": {},
   "outputs": [
    {
     "data": {
      "text/plain": [
       "'https://plot.ly/~fliu23/296/'"
      ]
     },
     "execution_count": 69,
     "metadata": {},
     "output_type": "execute_result"
    }
   ],
   "source": [
    "my_columns = []\n",
    "my_columns.append(Column(['Oceania'], 'x'))\n",
    "for index, row in ef_oceania_total.iterrows():\n",
    "    my_columns.append(Column([row.Total], 'y{}'.format(row.year)))   \n",
    "grid6 = Grid(my_columns)\n",
    "py.grid_ops.upload(grid6, 'Africa' + str(time.time()), auto_open=False)"
   ]
  },
  {
   "cell_type": "code",
   "execution_count": null,
   "metadata": {},
   "outputs": [],
   "source": []
  },
  {
   "cell_type": "markdown",
   "metadata": {},
   "source": [
    "## Make the figure"
   ]
  },
  {
   "cell_type": "code",
   "execution_count": 35,
   "metadata": {},
   "outputs": [],
   "source": [
    "sliders_dict = {\n",
    "    'active': 0,\n",
    "    'yanchor': 'top',\n",
    "    'xanchor': 'left',\n",
    "    'currentvalue': {\n",
    "        'font': {'size': 20},\n",
    "        'prefix': 'Year:',\n",
    "        'visible': True,\n",
    "        'xanchor': 'right'\n",
    "    },\n",
    "    'transition': {'duration': 300, 'easing': 'cubic-in-out'},\n",
    "    'pad': {'b': 10, 't': 50},\n",
    "    'len': 0.9,\n",
    "    'x': 0.1,\n",
    "    'y': 0,\n",
    "    'steps': []\n",
    "}"
   ]
  },
  {
   "cell_type": "code",
   "execution_count": 40,
   "metadata": {},
   "outputs": [],
   "source": [
    "for year in years:\n",
    "    slider_step = {'args': [\n",
    "    [year],\n",
    "    {'frame': {'duration': 300, 'redraw': False},\n",
    "     'mode': 'immediate',\n",
    "    'transition': {'duration': 300}}\n",
    "    ],\n",
    "    'label': year,\n",
    "    'method': 'animate'}\n",
    "    sliders_dict['steps'].append(slider_step)"
   ]
  },
  {
   "cell_type": "code",
   "execution_count": 41,
   "metadata": {},
   "outputs": [],
   "source": [
    "axis=dict(ticklen=4,\n",
    "          mirror=True,\n",
    "          zeroline=False,\n",
    "          showline=True,\n",
    "          autorange=False,\n",
    "          showgrid=False)"
   ]
  },
  {
   "cell_type": "code",
   "execution_count": 79,
   "metadata": {},
   "outputs": [
    {
     "data": {
      "text/html": [
       "<iframe id=\"igraph\" scrolling=\"no\" style=\"border:none;\" seamless=\"seamless\" src=\"https://plot.ly/~fliu23/306.embed\" height=\"525px\" width=\"100%\"></iframe>"
      ],
      "text/plain": [
       "<plotly.tools.PlotlyDisplay object>"
      ]
     },
     "execution_count": 79,
     "metadata": {},
     "output_type": "execute_result"
    }
   ],
   "source": [
    "figure = {\n",
    "    'data': [\n",
    "        {\n",
    "            'xsrc': grid1.get_column_reference('x'),\n",
    "            'ysrc': grid1.get_column_reference('y1961'),\n",
    "             'type': 'bar',\n",
    "             'line':dict(color= 'rgb(200, 90, 59)'),#BLUE\n",
    "             'name':'Asian',\n",
    "             'width': 0.5\n",
    "            \n",
    "        },  \n",
    "        {\n",
    "            'xsrc': grid2.get_column_reference('x'),\n",
    "            'ysrc': grid2.get_column_reference('y1961'),\n",
    "             'type': 'bar',\n",
    "            'line':dict(color= 'rgb(114, 100, 59)'),#orange\n",
    "             'name':'Europe',\n",
    "            'width': 0.5\n",
    "        },  \n",
    "        {\n",
    "            'xsrc': grid3.get_column_reference('x'),\n",
    "            'ysrc': grid3.get_column_reference('y1961'),\n",
    "             'type': 'bar',\n",
    "            'line':dict(color= 'rgb(114, 186, 200)'),#\n",
    "             'name':'North America',\n",
    "            'width': 0.5\n",
    "        },  \n",
    "        {\n",
    "            'xsrc': grid4.get_column_reference('x'),\n",
    "            'ysrc': grid4.get_column_reference('y1961'),\n",
    "             'type': 'bar',\n",
    "            'line':dict(color= 'rgb(40, 200, 59)'),\n",
    "             'name':'Latin America/carribbean',\n",
    "            'width': 0.5\n",
    "        },  \n",
    "        {\n",
    "            'xsrc': grid5.get_column_reference('x'),\n",
    "            'ysrc': grid5.get_column_reference('y1961'),\n",
    "             'type': 'bar',\n",
    "            'line':dict(color= 'rgb(70, 186, 30)'),\n",
    "             'name':'Africa',\n",
    "            'width': 0.5\n",
    "        },  \n",
    "        {\n",
    "            'xsrc': grid6.get_column_reference('x'),\n",
    "            'ysrc': grid6.get_column_reference('y1961'),\n",
    "             'type': 'bar',\n",
    "            'line':dict(color= 'rgb(114, 186, 59)'),\n",
    "             'name':'Oceania',\n",
    "            'width': 0.5\n",
    "        }\n",
    "    ],\n",
    "    'layout': {'sliders':[sliders_dict],\n",
    "               'title': 'Figure 1.3 Total Ecological Footprint by continent 1961-2014',\n",
    "               'xaxis': dict(axis, **{'title': 'Continent','nticks':27}),\n",
    "                'yaxis': dict(axis, **{'title': 'Ecological Footprint(gha)', 'range':[0,12000000000]}),\n",
    "               'showlegend':True,\n",
    "              \n",
    "               'updatemenus':[\n",
    "    {\n",
    "        'buttons': [\n",
    "            {\n",
    "                'args': [None],\n",
    "                #, {'frame': {'duration': 500, 'redraw': False},\n",
    "                #'fromcurrent': True, 'transition': {'duration': 300, 'easing': 'quadratic-in-out'}}], \n",
    "                'label': 'Play',\n",
    "                'method': 'animate'\n",
    "            },\n",
    "            {\n",
    "                'args': [[None], {'frame': {'duration': 0, 'redraw': False}, 'mode': 'immediate',\n",
    "                        'transition': {'duration': 0}}], \n",
    "                'label': 'Pause',\n",
    "                'method': 'animate'\n",
    "            }\n",
    "        ],\n",
    "        'direction': 'left',\n",
    "        'pad': {'r': 10, 't': 87},\n",
    "        'showactive': False,\n",
    "        'type': 'buttons',\n",
    "        'x': 0.1,\n",
    "        'xanchor': 'right',\n",
    "        'y': 0,\n",
    "        'yanchor': 'top'\n",
    "    }\n",
    "]},\n",
    "    'frames': [\n",
    "        {\n",
    "            'data': [\n",
    "        {\n",
    "            'xsrc': grid1.get_column_reference('x'),\n",
    "            'ysrc': grid1.get_column_reference('y{}'.format(year)),\n",
    "             'type': 'bar',\n",
    "             'line':dict(color= 'rgb(200, 90, 59)')\n",
    "            \n",
    "        },       \n",
    "                {\n",
    "            'xsrc': grid2.get_column_reference('x'),\n",
    "            'ysrc': grid2.get_column_reference('y{}'.format(year)),\n",
    "             'type': 'bar',\n",
    "             'line':dict(color= 'rgb(114, 100, 59)')\n",
    "            \n",
    "        },       \n",
    "                {\n",
    "            'xsrc': grid3.get_column_reference('x'),\n",
    "            'ysrc': grid3.get_column_reference('y{}'.format(year)),\n",
    "             'type': 'bar',\n",
    "             'line':dict(color= 'rgb(114, 186, 200)')\n",
    "            \n",
    "        },       \n",
    "                {\n",
    "            'xsrc': grid4.get_column_reference('x'),\n",
    "            'ysrc': grid4.get_column_reference('y{}'.format(year)),\n",
    "             'type': 'bar',\n",
    "             'line':dict(color= 'rgb(40, 200, 59)')\n",
    "            \n",
    "        },       \n",
    "                {\n",
    "            'xsrc': grid5.get_column_reference('x'),\n",
    "            'ysrc': grid5.get_column_reference('y{}'.format(year)),\n",
    "             'type': 'bar',\n",
    "             'line':dict(color= 'rgb(70, 186, 30)')\n",
    "            \n",
    "        },       \n",
    "                {\n",
    "            'xsrc': grid6.get_column_reference('x'),\n",
    "            'ysrc': grid6.get_column_reference('y{}'.format(year)),\n",
    "             'type': 'bar',\n",
    "             'line':dict(color= 'rgb(114, 186, 59)')\n",
    "            \n",
    "        }\n",
    "            ], 'name': year\n",
    "        } for year in years\n",
    "    ]\n",
    "    \n",
    "}\n",
    "\n",
    "py.icreate_animations(figure, 'Animated bar'+str(time.time()))"
   ]
  },
  {
   "cell_type": "code",
   "execution_count": null,
   "metadata": {},
   "outputs": [],
   "source": []
  },
  {
   "cell_type": "code",
   "execution_count": null,
   "metadata": {},
   "outputs": [],
   "source": []
  },
  {
   "cell_type": "code",
   "execution_count": null,
   "metadata": {},
   "outputs": [],
   "source": []
  }
 ],
 "metadata": {
  "kernelspec": {
   "display_name": "Python 3",
   "language": "python",
   "name": "python3"
  },
  "language_info": {
   "codemirror_mode": {
    "name": "ipython",
    "version": 3
   },
   "file_extension": ".py",
   "mimetype": "text/x-python",
   "name": "python",
   "nbconvert_exporter": "python",
   "pygments_lexer": "ipython3",
   "version": "3.6.4"
  }
 },
 "nbformat": 4,
 "nbformat_minor": 2
}
