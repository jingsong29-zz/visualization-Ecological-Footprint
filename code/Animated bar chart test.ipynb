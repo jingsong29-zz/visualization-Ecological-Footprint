{
 "cells": [
  {
   "cell_type": "code",
   "execution_count": null,
   "metadata": {},
   "outputs": [],
   "source": []
  },
  {
   "cell_type": "code",
   "execution_count": 1,
   "metadata": {},
   "outputs": [],
   "source": [
    "import plotly\n",
    "plotly.__version__\n",
    "import os\n",
    "import plotly.plotly as py\n",
    "from plotly.grid_objs import Grid, Column\n",
    "from plotly.tools import FigureFactory as FF \n",
    "\n",
    "import time\n",
    "from datetime import datetime\n",
    "import numpy as np\n",
    "import pandas as pd\n",
    "plotly.tools.set_credentials_file(username='fliu23', api_key='UX4p9CdJUmj67JmpsEuL')"
   ]
  },
  {
   "cell_type": "code",
   "execution_count": 42,
   "metadata": {},
   "outputs": [
    {
     "data": {
      "text/plain": [
       "'https://plot.ly/~fliu23/245/'"
      ]
     },
     "execution_count": 42,
     "metadata": {},
     "output_type": "execute_result"
    }
   ],
   "source": [
    "column_1 = Column(['Product A'], 'x1')#year1\n",
    "column_2 = Column([20], 'y1')\n",
    "column_3 = Column(['Product B'], 'x2')\n",
    "column_4 = Column([50], 'y2')\n",
    "column_5 = Column(['Product A'], 'w1')#year2\n",
    "column_6 = Column([40], 'z1')\n",
    "column_7 = Column(['Product B'], 'w2')\n",
    "column_8 = Column([10], 'z2')   \n",
    "column_9 = Column(['Product A'], 'p1')#year2\n",
    "column_10 = Column([15], 'q1')\n",
    "column_11 = Column(['Product B'], 'p2')\n",
    "column_12 = Column([25], 'q2')   \n",
    "\n",
    "\n",
    "grid = Grid([column_1, column_2, column_3, column_4,column_5,column_6,column_7,column_8,column_9,column_10,column_11,column_12])\n",
    "py.grid_ops.upload(grid, 'ping_pong_grid'+str(time.time()), auto_open=False)"
   ]
  },
  {
   "cell_type": "code",
   "execution_count": 66,
   "metadata": {},
   "outputs": [],
   "source": [
    "years = ['1952', '1962', '1967']"
   ]
  },
  {
   "cell_type": "code",
   "execution_count": 67,
   "metadata": {},
   "outputs": [],
   "source": [
    "sliders_dict = {\n",
    "    'active': 0,\n",
    "    'yanchor': 'top',\n",
    "    'xanchor': 'left',\n",
    "    'currentvalue': {\n",
    "        'font': {'size': 20},\n",
    "        'prefix': 'Year:',\n",
    "        'visible': True,\n",
    "        'xanchor': 'right'\n",
    "    },\n",
    "    'transition': {'duration': 30, 'easing': 'cubic-in-out'},\n",
    "    'pad': {'b': 10, 't': 50},\n",
    "    'len': 0.9,\n",
    "    'x': 0.1,\n",
    "    'y': 0,\n",
    "    'steps': []\n",
    "}"
   ]
  },
  {
   "cell_type": "code",
   "execution_count": 68,
   "metadata": {},
   "outputs": [],
   "source": [
    "for year in years:\n",
    "    slider_step = {'args': [\n",
    "            [year],\n",
    "            {'frame': {'duration': 30, 'redraw': False},\n",
    "             'mode': 'immediate',\n",
    "           'transition': {'duration': 30}}\n",
    "         ],\n",
    "         'label': year,\n",
    "         'method': 'animate'}\n",
    "    sliders_dict['steps'].append(slider_step)"
   ]
  },
  {
   "cell_type": "code",
   "execution_count": 78,
   "metadata": {},
   "outputs": [
    {
     "data": {
      "text/html": [
       "<iframe id=\"igraph\" scrolling=\"no\" style=\"border:none;\" seamless=\"seamless\" src=\"https://plot.ly/~fliu23/267.embed\" height=\"525px\" width=\"100%\"></iframe>"
      ],
      "text/plain": [
       "<plotly.tools.PlotlyDisplay object>"
      ]
     },
     "execution_count": 78,
     "metadata": {},
     "output_type": "execute_result"
    }
   ],
   "source": [
    "figure = {\n",
    "    'data': [\n",
    "        {\n",
    "            'xsrc': grid.get_column_reference('x1'),\n",
    "            'ysrc': grid.get_column_reference('y1'),\n",
    "           # 'mode': 'makers',\n",
    "             'type': 'bar',\n",
    "             'line':dict(color= 'rgb(200, 90, 59)'),\n",
    "             'name':'Product A',\n",
    "             'text':'A'\n",
    "            \n",
    "        },  \n",
    "        {\n",
    "            'xsrc': grid.get_column_reference('x2'),\n",
    "            'ysrc': grid.get_column_reference('y2'),\n",
    "           # 'mode': 'makers',\n",
    "             'type': 'bar',\n",
    "            'line':dict(color= 'rgb(114, 186, 59)'),\n",
    "             'name':'Product B'         \n",
    "        }\n",
    "    ],\n",
    "    'layout': {'sliders':[sliders_dict],\n",
    "               'title': 'Animated bar chart test',\n",
    "               'showlegend':True,\n",
    "               'updatemenus':[\n",
    "    {\n",
    "        'buttons': [\n",
    "            {\n",
    "                'args': [None],\n",
    "                #, {'frame': {'duration': 500, 'redraw': False},\n",
    "                 #       'fromcurrent': True, 'transition': {'duration': 300, 'easing': 'quadratic-in-out'}}], \n",
    "                'label': 'Play',\n",
    "                'method': 'animate'\n",
    "            },\n",
    "            {\n",
    "                'args': [[None], {'frame': {'duration': 0, 'redraw': False}, 'mode': 'immediate',\n",
    "                        'transition': {'duration': 0}}], \n",
    "                'label': 'Pause',\n",
    "                'method': 'animate'\n",
    "            }\n",
    "        ],\n",
    "        'direction': 'left',\n",
    "        'pad': {'r': 10, 't': 87},\n",
    "        'showactive': False,\n",
    "        'type': 'buttons',\n",
    "        'x': 0.1,\n",
    "        'xanchor': 'right',\n",
    "        'y': 0,\n",
    "        'yanchor': 'top'\n",
    "    }\n",
    "]},\n",
    "    'frames': [\n",
    "        {\n",
    "            'data': [\n",
    "        {\n",
    "            'xsrc': grid.get_column_reference('x1'),\n",
    "            'ysrc': grid.get_column_reference('y1'),\n",
    "             'type': 'bar',\n",
    "             'line':dict(color= 'rgb(200, 90, 59)')\n",
    "            \n",
    "        },       \n",
    "                {\n",
    "            'xsrc': grid.get_column_reference('x2'),\n",
    "            'ysrc': grid.get_column_reference('y2'),\n",
    "             'type': 'bar',\n",
    "             'line':dict(color= 'rgb(114, 186, 59)')\n",
    "            \n",
    "        }\n",
    "            ], 'name': years[0]\n",
    "        },#year 1\n",
    "        {\n",
    "            'data': [\n",
    "                {\n",
    "            'xsrc': grid.get_column_reference('w1'),\n",
    "            'ysrc': grid.get_column_reference('z1'),\n",
    "             'type': 'bar',\n",
    "            'line':dict(color= 'rgb(200, 90, 59)')\n",
    "            \n",
    "        },{\n",
    "            'xsrc': grid.get_column_reference('w2'),\n",
    "            'ysrc': grid.get_column_reference('z2'),\n",
    "             'type': 'bar',\n",
    "            'line':dict(color= 'rgb(114, 186, 59)')\n",
    "            \n",
    "        }\n",
    "            ], 'name': years[1]\n",
    "        },#year2\n",
    "            {\n",
    "            'data': [\n",
    "                {\n",
    "            'xsrc': grid.get_column_reference('p1'),\n",
    "            'ysrc': grid.get_column_reference('q1'),\n",
    "             'type': 'bar',\n",
    "            'line':dict(color= 'rgb(200, 90, 59)')\n",
    "            \n",
    "        },{\n",
    "            'xsrc': grid.get_column_reference('p2'),\n",
    "            'ysrc': grid.get_column_reference('q2'),\n",
    "             'type': 'bar',\n",
    "            'line':dict(color= 'rgb(114, 186, 59)')\n",
    "            \n",
    "        }\n",
    "            ], 'name': years[2]\n",
    "        }#year3\n",
    "    ]\n",
    "    \n",
    "}\n",
    "\n",
    "py.icreate_animations(figure, 'ping_pong'+str(time.time()))"
   ]
  },
  {
   "cell_type": "code",
   "execution_count": null,
   "metadata": {},
   "outputs": [],
   "source": []
  }
 ],
 "metadata": {
  "kernelspec": {
   "display_name": "Python 3",
   "language": "python",
   "name": "python3"
  },
  "language_info": {
   "codemirror_mode": {
    "name": "ipython",
    "version": 3
   },
   "file_extension": ".py",
   "mimetype": "text/x-python",
   "name": "python",
   "nbconvert_exporter": "python",
   "pygments_lexer": "ipython3",
   "version": "3.6.4"
  }
 },
 "nbformat": 4,
 "nbformat_minor": 2
}
