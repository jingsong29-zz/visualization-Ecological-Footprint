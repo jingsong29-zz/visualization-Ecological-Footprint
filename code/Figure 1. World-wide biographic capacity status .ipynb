{
 "cells": [
  {
   "cell_type": "code",
   "execution_count": null,
   "metadata": {},
   "outputs": [],
   "source": [
    "#Figure 1\n",
    "#https://plot.ly/python/filled-area-animation/"
   ]
  },
  {
   "cell_type": "code",
   "execution_count": 260,
   "metadata": {},
   "outputs": [
    {
     "data": {
      "text/plain": [
       "'2.5.1'"
      ]
     },
     "execution_count": 260,
     "metadata": {},
     "output_type": "execute_result"
    }
   ],
   "source": [
    "import plotly\n",
    "plotly.__version__"
   ]
  },
  {
   "cell_type": "code",
   "execution_count": 261,
   "metadata": {},
   "outputs": [],
   "source": [
    "import os\n",
    "import pandas as pd"
   ]
  },
  {
   "cell_type": "code",
   "execution_count": 262,
   "metadata": {},
   "outputs": [],
   "source": [
    "import plotly.plotly as py\n",
    "from plotly.grid_objs import Grid, Column\n",
    "from plotly.tools import FigureFactory as FF \n",
    "\n",
    "import time\n",
    "from datetime import datetime\n",
    "import numpy as np\n",
    "import pandas as pd"
   ]
  },
  {
   "cell_type": "code",
   "execution_count": 263,
   "metadata": {},
   "outputs": [],
   "source": [
    "# from plotly.offline import init_notebook_mode, iplot\n",
    "# from IPython.display import display, HTML\n",
    "# init_notebook_mode(connected=True)"
   ]
  },
  {
   "cell_type": "code",
   "execution_count": 264,
   "metadata": {},
   "outputs": [],
   "source": [
    "plotly.tools.set_credentials_file(username='fliu23', api_key='UX4p9CdJUmj67JmpsEuL')"
   ]
  },
  {
   "cell_type": "code",
   "execution_count": 265,
   "metadata": {},
   "outputs": [],
   "source": [
    "#location of footprint data\n",
    "path='/Users/xiaohui/Documents/0_2017_USF/MSAN_622_DataVis/final/visualization-Ecological-Footprint/data/footprint/country_trends'"
   ]
  },
  {
   "cell_type": "code",
   "execution_count": 266,
   "metadata": {},
   "outputs": [],
   "source": [
    "num_earth = pd.read_csv(os.path.join(path, \"world/Ecological Footprint (Number of Earths).csv\"))"
   ]
  },
  {
   "cell_type": "code",
   "execution_count": 267,
   "metadata": {},
   "outputs": [],
   "source": [
    "ef_gha = pd.read_csv(os.path.join(path, \"world/Ecological Footprint vs Biocapacity (gha).csv\"))"
   ]
  },
  {
   "cell_type": "code",
   "execution_count": 268,
   "metadata": {},
   "outputs": [
    {
     "data": {
      "text/html": [
       "<div>\n",
       "<style scoped>\n",
       "    .dataframe tbody tr th:only-of-type {\n",
       "        vertical-align: middle;\n",
       "    }\n",
       "\n",
       "    .dataframe tbody tr th {\n",
       "        vertical-align: top;\n",
       "    }\n",
       "\n",
       "    .dataframe thead th {\n",
       "        text-align: right;\n",
       "    }\n",
       "</style>\n",
       "<table border=\"1\" class=\"dataframe\">\n",
       "  <thead>\n",
       "    <tr style=\"text-align: right;\">\n",
       "      <th></th>\n",
       "      <th>Country Name</th>\n",
       "      <th>Short Name</th>\n",
       "      <th>year</th>\n",
       "      <th>Record</th>\n",
       "      <th>Built-up Land</th>\n",
       "      <th>Carbon</th>\n",
       "      <th>Cropland</th>\n",
       "      <th>Fishing Grounds</th>\n",
       "      <th>Forest Products</th>\n",
       "      <th>Grazing Land</th>\n",
       "      <th>Total</th>\n",
       "      <th>Data Quality Score</th>\n",
       "      <th>isoa2</th>\n",
       "    </tr>\n",
       "  </thead>\n",
       "  <tbody>\n",
       "    <tr>\n",
       "      <th>0</th>\n",
       "      <td>World</td>\n",
       "      <td>º World</td>\n",
       "      <td>1961</td>\n",
       "      <td>EFConsPerCap</td>\n",
       "      <td>0.026267</td>\n",
       "      <td>1.005262</td>\n",
       "      <td>0.464565</td>\n",
       "      <td>0.095635</td>\n",
       "      <td>0.430615</td>\n",
       "      <td>0.265488</td>\n",
       "      <td>2.287829</td>\n",
       "      <td>3A</td>\n",
       "      <td>NaN</td>\n",
       "    </tr>\n",
       "  </tbody>\n",
       "</table>\n",
       "</div>"
      ],
      "text/plain": [
       "  Country Name Short Name  year        Record  Built-up Land    Carbon  \\\n",
       "0        World    º World  1961  EFConsPerCap       0.026267  1.005262   \n",
       "\n",
       "   Cropland  Fishing Grounds  Forest Products  Grazing Land     Total  \\\n",
       "0  0.464565         0.095635         0.430615      0.265488  2.287829   \n",
       "\n",
       "  Data Quality Score  isoa2  \n",
       "0                 3A    NaN  "
      ]
     },
     "execution_count": 268,
     "metadata": {},
     "output_type": "execute_result"
    }
   ],
   "source": [
    "ef_person = pd.read_csv(os.path.join(path, \"world/Ecological Footprint vs Biocapacity (gha per person).csv\"))\n",
    "ef_person.head(1)"
   ]
  },
  {
   "cell_type": "code",
   "execution_count": 269,
   "metadata": {},
   "outputs": [],
   "source": [
    "ef_person_EF=ef_person.loc[ef_person['Record']=='EFConsPerCap', 'Total'].tolist()"
   ]
  },
  {
   "cell_type": "code",
   "execution_count": 270,
   "metadata": {},
   "outputs": [],
   "source": [
    "ef_person_EF=ef_person.loc[ef_person['Record']=='EFConsPerCap'].reset_index()\n",
    "ef_person_BC=ef_person.loc[ef_person['Record']=='BiocapPerCap'].reset_index()"
   ]
  },
  {
   "cell_type": "markdown",
   "metadata": {},
   "source": [
    "### Make the Grid"
   ]
  },
  {
   "cell_type": "code",
   "execution_count": 271,
   "metadata": {},
   "outputs": [],
   "source": [
    "ef = ef_person.loc[ef_person['Record']=='EFConsPerCap', 'Total'].tolist()\n",
    "bc = ef_person.loc[ef_person['Record']=='BiocapPerCap', 'Total'].tolist()"
   ]
  },
  {
   "cell_type": "code",
   "execution_count": 272,
   "metadata": {},
   "outputs": [],
   "source": [
    "cut =[i for i in range(len(ef)) if ef[i]>bc[i]][0] "
   ]
  },
  {
   "cell_type": "code",
   "execution_count": 273,
   "metadata": {},
   "outputs": [],
   "source": [
    "# 1. Ecological data: First 10 years(1961-1970): Ecological Footprint < Biocapacity"
   ]
  },
  {
   "cell_type": "code",
   "execution_count": 274,
   "metadata": {},
   "outputs": [
    {
     "data": {
      "text/plain": [
       "11"
      ]
     },
     "execution_count": 274,
     "metadata": {},
     "output_type": "execute_result"
    }
   ],
   "source": [
    "y1 = ef_person_EF.loc[0:cut+1,'Total'].tolist()\n",
    "len(y1)"
   ]
  },
  {
   "cell_type": "code",
   "execution_count": 275,
   "metadata": {},
   "outputs": [
    {
     "data": {
      "text/plain": [
       "'https://plot.ly/~fliu23/86/'"
      ]
     },
     "execution_count": 275,
     "metadata": {},
     "output_type": "execute_result"
    }
   ],
   "source": [
    "my_columns = []\n",
    "for k in range(len(y1) - 1):\n",
    "    my_columns.append(Column(ef_person_EF.year[:k + 1], 'x{}'.format(k + 1)))   \n",
    "    my_columns.append(Column(y1[:k + 1], 'y{}'.format(k + 1)))\n",
    "grid5 = Grid(my_columns)\n",
    "py.grid_ops.upload(grid5, 'ef+per' + str(time.time()), auto_open=False)"
   ]
  },
  {
   "cell_type": "code",
   "execution_count": 276,
   "metadata": {},
   "outputs": [],
   "source": [
    "# 2. Year (1970-2014): Ecological Footprint > Biocapacity"
   ]
  },
  {
   "cell_type": "code",
   "execution_count": 277,
   "metadata": {},
   "outputs": [
    {
     "data": {
      "text/plain": [
       "45"
      ]
     },
     "execution_count": 277,
     "metadata": {},
     "output_type": "execute_result"
    }
   ],
   "source": [
    "y2 = ef_person_EF.loc[cut:,'Total'].tolist()\n",
    "len(y2)"
   ]
  },
  {
   "cell_type": "code",
   "execution_count": 278,
   "metadata": {},
   "outputs": [
    {
     "data": {
      "text/plain": [
       "'https://plot.ly/~fliu23/87/'"
      ]
     },
     "execution_count": 278,
     "metadata": {},
     "output_type": "execute_result"
    }
   ],
   "source": [
    "my_columns = []\n",
    "for k in range(len(y2)):\n",
    "    my_columns.append(Column(ef_person_EF[cut:].year[:k + 1], 'x{}'.format(k + 1)))   \n",
    "    my_columns.append(Column(y2[:k + 1], 'y{}'.format(k + 1)))\n",
    "grid6 = Grid(my_columns)\n",
    "py.grid_ops.upload(grid6, 'ef+per' + str(time.time()), auto_open=False)"
   ]
  },
  {
   "cell_type": "code",
   "execution_count": 279,
   "metadata": {},
   "outputs": [],
   "source": [
    "#3. Biocapacity data: First 10 years(1961-1970): Ecological Footprint < Biocapacity"
   ]
  },
  {
   "cell_type": "code",
   "execution_count": 280,
   "metadata": {},
   "outputs": [
    {
     "data": {
      "text/plain": [
       "11"
      ]
     },
     "execution_count": 280,
     "metadata": {},
     "output_type": "execute_result"
    }
   ],
   "source": [
    "y11 = ef_person_BC.loc[0:cut+1,'Total'].tolist()\n",
    "len(y3)"
   ]
  },
  {
   "cell_type": "code",
   "execution_count": 281,
   "metadata": {},
   "outputs": [
    {
     "data": {
      "text/plain": [
       "'https://plot.ly/~fliu23/88/'"
      ]
     },
     "execution_count": 281,
     "metadata": {},
     "output_type": "execute_result"
    }
   ],
   "source": [
    "my_columns = []\n",
    "for k in range(len(y11) - 1):\n",
    "    my_columns.append(Column(ef_person_BC.year[:k + 1], 'x{}'.format(k + 1)))   \n",
    "    my_columns.append(Column(y11[:k + 1], 'y{}'.format(k + 1)))\n",
    "grid52 = Grid(my_columns)\n",
    "py.grid_ops.upload(grid52, 'ef+per' + str(time.time()), auto_open=False)"
   ]
  },
  {
   "cell_type": "code",
   "execution_count": 282,
   "metadata": {},
   "outputs": [],
   "source": [
    "#4. Biocapacity data: First 10 years(1961-1970): Ecological Footprint > Biocapacity"
   ]
  },
  {
   "cell_type": "code",
   "execution_count": 283,
   "metadata": {},
   "outputs": [
    {
     "data": {
      "text/plain": [
       "45"
      ]
     },
     "execution_count": 283,
     "metadata": {},
     "output_type": "execute_result"
    }
   ],
   "source": [
    "y21 = ef_person_BC.loc[cut:,'Total'].tolist()\n",
    "len(y21)"
   ]
  },
  {
   "cell_type": "code",
   "execution_count": 284,
   "metadata": {},
   "outputs": [
    {
     "data": {
      "text/plain": [
       "'https://plot.ly/~fliu23/89/'"
      ]
     },
     "execution_count": 284,
     "metadata": {},
     "output_type": "execute_result"
    }
   ],
   "source": [
    "my_columns = []\n",
    "for k in range(len(y21)):\n",
    "    my_columns.append(Column(ef_person_EF[cut:].year[:k + 1], 'x{}'.format(k + 1)))   \n",
    "    my_columns.append(Column(y21[:k + 1], 'y{}'.format(k + 1)))\n",
    "grid62 = Grid(my_columns)\n",
    "py.grid_ops.upload(grid62, 'ef+per' + str(time.time()), auto_open=False)"
   ]
  },
  {
   "cell_type": "code",
   "execution_count": null,
   "metadata": {},
   "outputs": [],
   "source": []
  },
  {
   "cell_type": "markdown",
   "metadata": {},
   "source": [
    "### Make the Figure"
   ]
  },
  {
   "cell_type": "code",
   "execution_count": 285,
   "metadata": {},
   "outputs": [
    {
     "data": {
      "text/html": [
       "<iframe id=\"igraph\" scrolling=\"no\" style=\"border:none;\" seamless=\"seamless\" src=\"https://plot.ly/~fliu23/90.embed\" height=\"400px\" width=\"800px\"></iframe>"
      ],
      "text/plain": [
       "<plotly.tools.PlotlyDisplay object>"
      ]
     },
     "execution_count": 285,
     "metadata": {},
     "output_type": "execute_result"
    }
   ],
   "source": [
    "data=[dict(type='scatter',\n",
    "           xsrc=grid5.get_column_reference('x1'),\n",
    "           ysrc= grid5.get_column_reference('y1'),\n",
    "           name='Ecological Footprint',\n",
    "           mode='lines',\n",
    "           line=dict(color= 'rgb(200, 90, 59)'),#red\n",
    "           fill=None,\n",
    "           fillcolor='rgba(114, 186, 59, 0.5)'),\n",
    "      dict(type='scatter',\n",
    "           xsrc=grid52.get_column_reference('x1'),\n",
    "           ysrc= grid52.get_column_reference('y1'),\n",
    "           name='Biocapacity',\n",
    "           mode='lines',\n",
    "           line=dict(color= 'rgb(114, 186, 59)'),#green\n",
    "           fill='tonexty',\n",
    "           fillcolor='rgba(114, 186, 59, 0.5)'),\n",
    "      \n",
    "     dict(type='scatter',\n",
    "           xsrc=grid6.get_column_reference('x1'),\n",
    "           ysrc= grid6.get_column_reference('y1'),\n",
    "           name='Ecological Footprint',\n",
    "           mode='lines',\n",
    "           line=dict(color= 'rgb(200, 90, 59)'),\n",
    "           fill=None,\n",
    "           fillcolor='rgba(114, 186, 59, 0.5)'),\n",
    "     dict(type='scatter',\n",
    "           xsrc=grid62.get_column_reference('x1'),\n",
    "           ysrc= grid62.get_column_reference('y1'),\n",
    "           name='Biocapacity',\n",
    "           mode='lines',\n",
    "           line=dict(color= 'rgb(114, 186, 59)'),\n",
    "           fill='tonexty',\n",
    "           fillcolor='rgba(200, 90, 59, 0.5)'),]#red\n",
    "\n",
    "axis=dict(ticklen=4,\n",
    "          mirror=True,\n",
    "          zeroline=False,\n",
    "          showline=True,\n",
    "          autorange=False,\n",
    "          showgrid=False)\n",
    "\n",
    "layout = dict(title='Figure 1. World Ecological Footprint and Biocapacity(1961-2014)',\n",
    "              font=dict(family='Balto'),\n",
    "              showlegend=False,\n",
    "              autosize=False,\n",
    "              width=800,\n",
    "              height=400,\n",
    "              xaxis=dict(axis, **{'title': 'Year','nticks':27, 'tickangle':-45,\n",
    "                                  'range': [1961,\n",
    "                                            2014]}),\n",
    "              yaxis=dict(axis, **{'title': 'Biocapacity deficit/reserve', 'range':[0,5]}),\n",
    "              updatemenus=[dict(type='buttons',\n",
    "                                showactive=True,\n",
    "                                y=1,\n",
    "                                x=1.1,\n",
    "                                xanchor='right',\n",
    "                                yanchor='bottom',\n",
    "                                pad=dict(t=0, r=10),\n",
    "                                buttons=[dict(label='Play',\n",
    "                                              method='animate',\n",
    "                                              args=[None, dict(frame=dict(duration=50, redraw=False), \n",
    "                                                               transition=dict(duration=0),\n",
    "                                                               fromcurrent=True,\n",
    "                                                               mode='immediate')])])])\n",
    "\n",
    "frames=[{'data':[{'xsrc': grid5.get_column_reference('x{}'.format(k + 1)),\n",
    "                  'ysrc': grid5.get_column_reference('y{}'.format(k + 1))},\n",
    "                {'xsrc': grid52.get_column_reference('x{}'.format(k + 1)),\n",
    "                  'ysrc': grid52.get_column_reference('y{}'.format(k + 1))}],\n",
    "         'traces': [0,1]\n",
    "        } for k in range(len(y1) - 1)]+[{'data':[\n",
    "                 {'xsrc': grid6.get_column_reference('x{}'.format(k + 1)),\n",
    "                  'ysrc': grid6.get_column_reference('y{}'.format(k + 1))},\n",
    "                {'xsrc': grid62.get_column_reference('x{}'.format(k + 1)),\n",
    "                  'ysrc': grid62.get_column_reference('y{}'.format(k + 1))}],\n",
    "         'traces': [2,3]\n",
    "        } for k in range(len(y2) - 1)]\n",
    "\n",
    "fig=dict(data=data, layout=layout, frames=frames)\n",
    "py.icreate_animations(fig, 'EF' + str(time.time()))\n"
   ]
  },
  {
   "cell_type": "code",
   "execution_count": null,
   "metadata": {},
   "outputs": [],
   "source": []
  },
  {
   "cell_type": "code",
   "execution_count": null,
   "metadata": {},
   "outputs": [],
   "source": []
  }
 ],
 "metadata": {
  "kernelspec": {
   "display_name": "Python 3",
   "language": "python",
   "name": "python3"
  },
  "language_info": {
   "codemirror_mode": {
    "name": "ipython",
    "version": 3
   },
   "file_extension": ".py",
   "mimetype": "text/x-python",
   "name": "python",
   "nbconvert_exporter": "python",
   "pygments_lexer": "ipython3",
   "version": "3.6.4"
  }
 },
 "nbformat": 4,
 "nbformat_minor": 2
}
