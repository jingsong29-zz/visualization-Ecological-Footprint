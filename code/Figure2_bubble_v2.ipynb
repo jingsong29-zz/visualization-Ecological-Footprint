{
 "cells": [
  {
   "cell_type": "markdown",
   "metadata": {},
   "source": [
    "# Figure 2 Yearly Ecological Footprint Growth Vs. GDP growth"
   ]
  },
  {
   "cell_type": "markdown",
   "metadata": {},
   "source": [
    "### Authors: Fei Liu, Jing Song"
   ]
  },
  {
   "cell_type": "code",
   "execution_count": 7,
   "metadata": {
    "collapsed": true
   },
   "outputs": [],
   "source": [
    "import plotly.plotly as py\n",
    "import plotly.graph_objs as go\n",
    "\n",
    "from datetime import datetime\n",
    "import pandas as pd\n",
    "import numpy as np"
   ]
  },
  {
   "cell_type": "code",
   "execution_count": 2,
   "metadata": {
    "collapsed": true
   },
   "outputs": [],
   "source": [
    "# from plotly.offline import download_plotlyjs, init_notebook_mode, plot, iplot\n",
    "# from IPython.display import display, HTML\n",
    "\n",
    "# init_notebook_mode(connected=True)"
   ]
  },
  {
   "cell_type": "code",
   "execution_count": 1,
   "metadata": {},
   "outputs": [
    {
     "data": {
      "text/plain": [
       "'2.5.1'"
      ]
     },
     "execution_count": 1,
     "metadata": {},
     "output_type": "execute_result"
    }
   ],
   "source": [
    "import plotly\n",
    "plotly.__version__"
   ]
  },
  {
   "cell_type": "code",
   "execution_count": 2,
   "metadata": {
    "collapsed": true
   },
   "outputs": [],
   "source": [
    "plotly.tools.set_credentials_file(username='fliu23', api_key='UX4p9CdJUmj67JmpsEuL')"
   ]
  },
  {
   "cell_type": "code",
   "execution_count": 55,
   "metadata": {
    "collapsed": true
   },
   "outputs": [],
   "source": [
    "import time"
   ]
  },
  {
   "cell_type": "code",
   "execution_count": 3,
   "metadata": {
    "collapsed": true
   },
   "outputs": [],
   "source": [
    "from plotly.grid_objs import Grid, Column\n",
    "from plotly.tools import FigureFactory as FF "
   ]
  },
  {
   "cell_type": "markdown",
   "metadata": {},
   "source": [
    "## data cleaning"
   ]
  },
  {
   "cell_type": "markdown",
   "metadata": {},
   "source": [
    "### GDP data"
   ]
  },
  {
   "cell_type": "code",
   "execution_count": 8,
   "metadata": {},
   "outputs": [],
   "source": [
    "gdp = pd.read_csv('../data/bubble chart/GDP_1990-2016.csv')\n",
    "gdp1 = gdp.drop(['Series Name', 'Series Code'], axis=1)"
   ]
  },
  {
   "cell_type": "code",
   "execution_count": 9,
   "metadata": {},
   "outputs": [
    {
     "data": {
      "text/html": [
       "<div>\n",
       "<style>\n",
       "    .dataframe thead tr:only-child th {\n",
       "        text-align: right;\n",
       "    }\n",
       "\n",
       "    .dataframe thead th {\n",
       "        text-align: left;\n",
       "    }\n",
       "\n",
       "    .dataframe tbody tr th {\n",
       "        vertical-align: top;\n",
       "    }\n",
       "</style>\n",
       "<table border=\"1\" class=\"dataframe\">\n",
       "  <thead>\n",
       "    <tr style=\"text-align: right;\">\n",
       "      <th></th>\n",
       "      <th>Country Name</th>\n",
       "      <th>Country Code</th>\n",
       "      <th>1990</th>\n",
       "      <th>1991</th>\n",
       "      <th>1992</th>\n",
       "      <th>1993</th>\n",
       "      <th>1994</th>\n",
       "      <th>1995</th>\n",
       "      <th>1996</th>\n",
       "      <th>1997</th>\n",
       "      <th>...</th>\n",
       "      <th>2007</th>\n",
       "      <th>2008</th>\n",
       "      <th>2009</th>\n",
       "      <th>2010</th>\n",
       "      <th>2011</th>\n",
       "      <th>2012</th>\n",
       "      <th>2013</th>\n",
       "      <th>2014</th>\n",
       "      <th>2015</th>\n",
       "      <th>2016</th>\n",
       "    </tr>\n",
       "  </thead>\n",
       "  <tbody>\n",
       "    <tr>\n",
       "      <th>0</th>\n",
       "      <td>Afghanistan</td>\n",
       "      <td>AFG</td>\n",
       "      <td>..</td>\n",
       "      <td>..</td>\n",
       "      <td>..</td>\n",
       "      <td>..</td>\n",
       "      <td>..</td>\n",
       "      <td>..</td>\n",
       "      <td>..</td>\n",
       "      <td>..</td>\n",
       "      <td>...</td>\n",
       "      <td>1284.775213</td>\n",
       "      <td>1298.143159</td>\n",
       "      <td>1531.173993</td>\n",
       "      <td>1614.255001</td>\n",
       "      <td>1660.739856</td>\n",
       "      <td>1839.273579</td>\n",
       "      <td>1848.700026</td>\n",
       "      <td>1838.960244</td>\n",
       "      <td>1809.016488</td>\n",
       "      <td>1802.695566</td>\n",
       "    </tr>\n",
       "    <tr>\n",
       "      <th>1</th>\n",
       "      <td>Albania</td>\n",
       "      <td>ALB</td>\n",
       "      <td>4722.838166</td>\n",
       "      <td>3345.504049</td>\n",
       "      <td>3123.512503</td>\n",
       "      <td>3444.321792</td>\n",
       "      <td>3753.169904</td>\n",
       "      <td>4278.689663</td>\n",
       "      <td>4697.153233</td>\n",
       "      <td>4214.358153</td>\n",
       "      <td>...</td>\n",
       "      <td>8754.569513</td>\n",
       "      <td>9153.788206</td>\n",
       "      <td>9524.649303</td>\n",
       "      <td>9927.181841</td>\n",
       "      <td>10207.7647</td>\n",
       "      <td>10369.82338</td>\n",
       "      <td>10492.80628</td>\n",
       "      <td>10701.12079</td>\n",
       "      <td>10971.29252</td>\n",
       "      <td>11359.1704</td>\n",
       "    </tr>\n",
       "    <tr>\n",
       "      <th>2</th>\n",
       "      <td>Algeria</td>\n",
       "      <td>DZA</td>\n",
       "      <td>10236.84066</td>\n",
       "      <td>9869.48837</td>\n",
       "      <td>9815.463823</td>\n",
       "      <td>9400.054424</td>\n",
       "      <td>9126.271624</td>\n",
       "      <td>9295.420114</td>\n",
       "      <td>9509.687657</td>\n",
       "      <td>9461.355117</td>\n",
       "      <td>...</td>\n",
       "      <td>12570.6547</td>\n",
       "      <td>12660.40324</td>\n",
       "      <td>12647.5403</td>\n",
       "      <td>12870.6027</td>\n",
       "      <td>12990.34502</td>\n",
       "      <td>13161.96167</td>\n",
       "      <td>13253.61548</td>\n",
       "      <td>13483.33786</td>\n",
       "      <td>13724.72385</td>\n",
       "      <td>13921.18002</td>\n",
       "    </tr>\n",
       "    <tr>\n",
       "      <th>3</th>\n",
       "      <td>American Samoa</td>\n",
       "      <td>ASM</td>\n",
       "      <td>..</td>\n",
       "      <td>..</td>\n",
       "      <td>..</td>\n",
       "      <td>..</td>\n",
       "      <td>..</td>\n",
       "      <td>..</td>\n",
       "      <td>..</td>\n",
       "      <td>..</td>\n",
       "      <td>...</td>\n",
       "      <td>..</td>\n",
       "      <td>..</td>\n",
       "      <td>..</td>\n",
       "      <td>..</td>\n",
       "      <td>..</td>\n",
       "      <td>..</td>\n",
       "      <td>..</td>\n",
       "      <td>..</td>\n",
       "      <td>..</td>\n",
       "      <td>..</td>\n",
       "    </tr>\n",
       "    <tr>\n",
       "      <th>4</th>\n",
       "      <td>Andorra</td>\n",
       "      <td>AND</td>\n",
       "      <td>..</td>\n",
       "      <td>..</td>\n",
       "      <td>..</td>\n",
       "      <td>..</td>\n",
       "      <td>..</td>\n",
       "      <td>..</td>\n",
       "      <td>..</td>\n",
       "      <td>..</td>\n",
       "      <td>...</td>\n",
       "      <td>..</td>\n",
       "      <td>..</td>\n",
       "      <td>..</td>\n",
       "      <td>..</td>\n",
       "      <td>..</td>\n",
       "      <td>..</td>\n",
       "      <td>..</td>\n",
       "      <td>..</td>\n",
       "      <td>..</td>\n",
       "      <td>..</td>\n",
       "    </tr>\n",
       "  </tbody>\n",
       "</table>\n",
       "<p>5 rows × 29 columns</p>\n",
       "</div>"
      ],
      "text/plain": [
       "     Country Name Country Code         1990         1991         1992  \\\n",
       "0     Afghanistan          AFG           ..           ..           ..   \n",
       "1         Albania          ALB  4722.838166  3345.504049  3123.512503   \n",
       "2         Algeria          DZA  10236.84066   9869.48837  9815.463823   \n",
       "3  American Samoa          ASM           ..           ..           ..   \n",
       "4         Andorra          AND           ..           ..           ..   \n",
       "\n",
       "          1993         1994         1995         1996         1997  \\\n",
       "0           ..           ..           ..           ..           ..   \n",
       "1  3444.321792  3753.169904  4278.689663  4697.153233  4214.358153   \n",
       "2  9400.054424  9126.271624  9295.420114  9509.687657  9461.355117   \n",
       "3           ..           ..           ..           ..           ..   \n",
       "4           ..           ..           ..           ..           ..   \n",
       "\n",
       "      ...              2007         2008         2009         2010  \\\n",
       "0     ...       1284.775213  1298.143159  1531.173993  1614.255001   \n",
       "1     ...       8754.569513  9153.788206  9524.649303  9927.181841   \n",
       "2     ...        12570.6547  12660.40324   12647.5403   12870.6027   \n",
       "3     ...                ..           ..           ..           ..   \n",
       "4     ...                ..           ..           ..           ..   \n",
       "\n",
       "          2011         2012         2013         2014         2015  \\\n",
       "0  1660.739856  1839.273579  1848.700026  1838.960244  1809.016488   \n",
       "1   10207.7647  10369.82338  10492.80628  10701.12079  10971.29252   \n",
       "2  12990.34502  13161.96167  13253.61548  13483.33786  13724.72385   \n",
       "3           ..           ..           ..           ..           ..   \n",
       "4           ..           ..           ..           ..           ..   \n",
       "\n",
       "          2016  \n",
       "0  1802.695566  \n",
       "1   11359.1704  \n",
       "2  13921.18002  \n",
       "3           ..  \n",
       "4           ..  \n",
       "\n",
       "[5 rows x 29 columns]"
      ]
     },
     "execution_count": 9,
     "metadata": {},
     "output_type": "execute_result"
    }
   ],
   "source": [
    "gdp1.head()"
   ]
  },
  {
   "cell_type": "code",
   "execution_count": 10,
   "metadata": {},
   "outputs": [],
   "source": [
    "gdp1.columns = [ 'GDP' + gdp1.columns[x] if x >= 2 else gdp1.columns[x] for x in range(len(gdp1.columns))]"
   ]
  },
  {
   "cell_type": "code",
   "execution_count": 11,
   "metadata": {},
   "outputs": [
    {
     "data": {
      "text/plain": [
       "Index([u'Country Name', u'Country Code', u'GDP1990', u'GDP1991', u'GDP1992',\n",
       "       u'GDP1993', u'GDP1994', u'GDP1995', u'GDP1996', u'GDP1997', u'GDP1998',\n",
       "       u'GDP1999', u'GDP2000', u'GDP2001', u'GDP2002', u'GDP2003', u'GDP2004',\n",
       "       u'GDP2005', u'GDP2006', u'GDP2007', u'GDP2008', u'GDP2009', u'GDP2010',\n",
       "       u'GDP2011', u'GDP2012', u'GDP2013', u'GDP2014', u'GDP2015', u'GDP2016'],\n",
       "      dtype='object')"
      ]
     },
     "execution_count": 11,
     "metadata": {},
     "output_type": "execute_result"
    }
   ],
   "source": [
    "gdp1.columns"
   ]
  },
  {
   "cell_type": "code",
   "execution_count": 12,
   "metadata": {
    "collapsed": true
   },
   "outputs": [],
   "source": [
    "gdp_long = pd.wide_to_long(gdp1, stubnames='GDP', i=['Country Name', 'Country Code'], j='year')    \n",
    "gdp_long = gdp_long.reset_index()"
   ]
  },
  {
   "cell_type": "code",
   "execution_count": 13,
   "metadata": {},
   "outputs": [
    {
     "data": {
      "text/html": [
       "<div>\n",
       "<style>\n",
       "    .dataframe thead tr:only-child th {\n",
       "        text-align: right;\n",
       "    }\n",
       "\n",
       "    .dataframe thead th {\n",
       "        text-align: left;\n",
       "    }\n",
       "\n",
       "    .dataframe tbody tr th {\n",
       "        vertical-align: top;\n",
       "    }\n",
       "</style>\n",
       "<table border=\"1\" class=\"dataframe\">\n",
       "  <thead>\n",
       "    <tr style=\"text-align: right;\">\n",
       "      <th></th>\n",
       "      <th>Country Name</th>\n",
       "      <th>Country Code</th>\n",
       "      <th>year</th>\n",
       "      <th>GDP</th>\n",
       "    </tr>\n",
       "  </thead>\n",
       "  <tbody>\n",
       "    <tr>\n",
       "      <th>0</th>\n",
       "      <td>Afghanistan</td>\n",
       "      <td>AFG</td>\n",
       "      <td>1990</td>\n",
       "      <td>..</td>\n",
       "    </tr>\n",
       "    <tr>\n",
       "      <th>1</th>\n",
       "      <td>Afghanistan</td>\n",
       "      <td>AFG</td>\n",
       "      <td>1991</td>\n",
       "      <td>..</td>\n",
       "    </tr>\n",
       "    <tr>\n",
       "      <th>2</th>\n",
       "      <td>Afghanistan</td>\n",
       "      <td>AFG</td>\n",
       "      <td>1992</td>\n",
       "      <td>..</td>\n",
       "    </tr>\n",
       "    <tr>\n",
       "      <th>3</th>\n",
       "      <td>Afghanistan</td>\n",
       "      <td>AFG</td>\n",
       "      <td>1993</td>\n",
       "      <td>..</td>\n",
       "    </tr>\n",
       "    <tr>\n",
       "      <th>4</th>\n",
       "      <td>Afghanistan</td>\n",
       "      <td>AFG</td>\n",
       "      <td>1994</td>\n",
       "      <td>..</td>\n",
       "    </tr>\n",
       "  </tbody>\n",
       "</table>\n",
       "</div>"
      ],
      "text/plain": [
       "  Country Name Country Code  year GDP\n",
       "0  Afghanistan          AFG  1990  ..\n",
       "1  Afghanistan          AFG  1991  ..\n",
       "2  Afghanistan          AFG  1992  ..\n",
       "3  Afghanistan          AFG  1993  ..\n",
       "4  Afghanistan          AFG  1994  .."
      ]
     },
     "execution_count": 13,
     "metadata": {},
     "output_type": "execute_result"
    }
   ],
   "source": [
    "gdp_long.head(5)"
   ]
  },
  {
   "cell_type": "markdown",
   "metadata": {},
   "source": [
    "### Population data"
   ]
  },
  {
   "cell_type": "code",
   "execution_count": 14,
   "metadata": {
    "collapsed": true
   },
   "outputs": [],
   "source": [
    "population = pd.read_csv('../data/bubble chart/population_1990-2016.csv')\n",
    "population1 = population.drop(['Indicator Name', 'Indicator Code'], axis=1)"
   ]
  },
  {
   "cell_type": "code",
   "execution_count": 15,
   "metadata": {
    "collapsed": true
   },
   "outputs": [],
   "source": [
    "population1.columns = [ 'Population' + population1.columns[x] if x >= 2 else population1.columns[x] for x in range(len(population1.columns))]"
   ]
  },
  {
   "cell_type": "code",
   "execution_count": 16,
   "metadata": {},
   "outputs": [
    {
     "data": {
      "text/html": [
       "<div>\n",
       "<style>\n",
       "    .dataframe thead tr:only-child th {\n",
       "        text-align: right;\n",
       "    }\n",
       "\n",
       "    .dataframe thead th {\n",
       "        text-align: left;\n",
       "    }\n",
       "\n",
       "    .dataframe tbody tr th {\n",
       "        vertical-align: top;\n",
       "    }\n",
       "</style>\n",
       "<table border=\"1\" class=\"dataframe\">\n",
       "  <thead>\n",
       "    <tr style=\"text-align: right;\">\n",
       "      <th></th>\n",
       "      <th>Country Name</th>\n",
       "      <th>Country Code</th>\n",
       "      <th>Population1990</th>\n",
       "      <th>Population1991</th>\n",
       "      <th>Population1992</th>\n",
       "      <th>Population1993</th>\n",
       "      <th>Population1994</th>\n",
       "      <th>Population1995</th>\n",
       "      <th>Population1996</th>\n",
       "      <th>Population1997</th>\n",
       "      <th>...</th>\n",
       "      <th>Population2007</th>\n",
       "      <th>Population2008</th>\n",
       "      <th>Population2009</th>\n",
       "      <th>Population2010</th>\n",
       "      <th>Population2011</th>\n",
       "      <th>Population2012</th>\n",
       "      <th>Population2013</th>\n",
       "      <th>Population2014</th>\n",
       "      <th>Population2015</th>\n",
       "      <th>Population2016</th>\n",
       "    </tr>\n",
       "  </thead>\n",
       "  <tbody>\n",
       "    <tr>\n",
       "      <th>0</th>\n",
       "      <td>Aruba</td>\n",
       "      <td>ABW</td>\n",
       "      <td>62149.0</td>\n",
       "      <td>64622.0</td>\n",
       "      <td>68235.0</td>\n",
       "      <td>72504.0</td>\n",
       "      <td>76700.0</td>\n",
       "      <td>80324.0</td>\n",
       "      <td>83200.0</td>\n",
       "      <td>85451.0</td>\n",
       "      <td>...</td>\n",
       "      <td>101220.0</td>\n",
       "      <td>101353.0</td>\n",
       "      <td>101453.0</td>\n",
       "      <td>101669.0</td>\n",
       "      <td>102053.0</td>\n",
       "      <td>102577.0</td>\n",
       "      <td>103187.0</td>\n",
       "      <td>103795.0</td>\n",
       "      <td>104341.0</td>\n",
       "      <td>104822.0</td>\n",
       "    </tr>\n",
       "    <tr>\n",
       "      <th>1</th>\n",
       "      <td>Afghanistan</td>\n",
       "      <td>AFG</td>\n",
       "      <td>12249114.0</td>\n",
       "      <td>12993657.0</td>\n",
       "      <td>13981231.0</td>\n",
       "      <td>15095099.0</td>\n",
       "      <td>16172719.0</td>\n",
       "      <td>17099541.0</td>\n",
       "      <td>17822884.0</td>\n",
       "      <td>18381605.0</td>\n",
       "      <td>...</td>\n",
       "      <td>26616792.0</td>\n",
       "      <td>27294031.0</td>\n",
       "      <td>28004331.0</td>\n",
       "      <td>28803167.0</td>\n",
       "      <td>29708599.0</td>\n",
       "      <td>30696958.0</td>\n",
       "      <td>31731688.0</td>\n",
       "      <td>32758020.0</td>\n",
       "      <td>33736494.0</td>\n",
       "      <td>34656032.0</td>\n",
       "    </tr>\n",
       "    <tr>\n",
       "      <th>2</th>\n",
       "      <td>Angola</td>\n",
       "      <td>AGO</td>\n",
       "      <td>12171441.0</td>\n",
       "      <td>12553446.0</td>\n",
       "      <td>12968345.0</td>\n",
       "      <td>13403734.0</td>\n",
       "      <td>13841301.0</td>\n",
       "      <td>14268994.0</td>\n",
       "      <td>14682284.0</td>\n",
       "      <td>15088981.0</td>\n",
       "      <td>...</td>\n",
       "      <td>20997687.0</td>\n",
       "      <td>21759420.0</td>\n",
       "      <td>22549547.0</td>\n",
       "      <td>23369131.0</td>\n",
       "      <td>24218565.0</td>\n",
       "      <td>25096150.0</td>\n",
       "      <td>25998340.0</td>\n",
       "      <td>26920466.0</td>\n",
       "      <td>27859305.0</td>\n",
       "      <td>28813463.0</td>\n",
       "    </tr>\n",
       "    <tr>\n",
       "      <th>3</th>\n",
       "      <td>Albania</td>\n",
       "      <td>ALB</td>\n",
       "      <td>3286542.0</td>\n",
       "      <td>3266790.0</td>\n",
       "      <td>3247039.0</td>\n",
       "      <td>3227287.0</td>\n",
       "      <td>3207536.0</td>\n",
       "      <td>3187784.0</td>\n",
       "      <td>3168033.0</td>\n",
       "      <td>3148281.0</td>\n",
       "      <td>...</td>\n",
       "      <td>2970017.0</td>\n",
       "      <td>2947314.0</td>\n",
       "      <td>2927519.0</td>\n",
       "      <td>2913021.0</td>\n",
       "      <td>2905195.0</td>\n",
       "      <td>2900401.0</td>\n",
       "      <td>2895092.0</td>\n",
       "      <td>2889104.0</td>\n",
       "      <td>2880703.0</td>\n",
       "      <td>2876101.0</td>\n",
       "    </tr>\n",
       "    <tr>\n",
       "      <th>4</th>\n",
       "      <td>Andorra</td>\n",
       "      <td>AND</td>\n",
       "      <td>54509.0</td>\n",
       "      <td>56671.0</td>\n",
       "      <td>58888.0</td>\n",
       "      <td>60971.0</td>\n",
       "      <td>62677.0</td>\n",
       "      <td>63850.0</td>\n",
       "      <td>64360.0</td>\n",
       "      <td>64327.0</td>\n",
       "      <td>...</td>\n",
       "      <td>82683.0</td>\n",
       "      <td>83861.0</td>\n",
       "      <td>84462.0</td>\n",
       "      <td>84449.0</td>\n",
       "      <td>83751.0</td>\n",
       "      <td>82431.0</td>\n",
       "      <td>80788.0</td>\n",
       "      <td>79223.0</td>\n",
       "      <td>78014.0</td>\n",
       "      <td>77281.0</td>\n",
       "    </tr>\n",
       "  </tbody>\n",
       "</table>\n",
       "<p>5 rows × 29 columns</p>\n",
       "</div>"
      ],
      "text/plain": [
       "  Country Name Country Code  Population1990  Population1991  Population1992  \\\n",
       "0        Aruba          ABW         62149.0         64622.0         68235.0   \n",
       "1  Afghanistan          AFG      12249114.0      12993657.0      13981231.0   \n",
       "2       Angola          AGO      12171441.0      12553446.0      12968345.0   \n",
       "3      Albania          ALB       3286542.0       3266790.0       3247039.0   \n",
       "4      Andorra          AND         54509.0         56671.0         58888.0   \n",
       "\n",
       "   Population1993  Population1994  Population1995  Population1996  \\\n",
       "0         72504.0         76700.0         80324.0         83200.0   \n",
       "1      15095099.0      16172719.0      17099541.0      17822884.0   \n",
       "2      13403734.0      13841301.0      14268994.0      14682284.0   \n",
       "3       3227287.0       3207536.0       3187784.0       3168033.0   \n",
       "4         60971.0         62677.0         63850.0         64360.0   \n",
       "\n",
       "   Population1997       ...        Population2007  Population2008  \\\n",
       "0         85451.0       ...              101220.0        101353.0   \n",
       "1      18381605.0       ...            26616792.0      27294031.0   \n",
       "2      15088981.0       ...            20997687.0      21759420.0   \n",
       "3       3148281.0       ...             2970017.0       2947314.0   \n",
       "4         64327.0       ...               82683.0         83861.0   \n",
       "\n",
       "   Population2009  Population2010  Population2011  Population2012  \\\n",
       "0        101453.0        101669.0        102053.0        102577.0   \n",
       "1      28004331.0      28803167.0      29708599.0      30696958.0   \n",
       "2      22549547.0      23369131.0      24218565.0      25096150.0   \n",
       "3       2927519.0       2913021.0       2905195.0       2900401.0   \n",
       "4         84462.0         84449.0         83751.0         82431.0   \n",
       "\n",
       "   Population2013  Population2014  Population2015  Population2016  \n",
       "0        103187.0        103795.0        104341.0        104822.0  \n",
       "1      31731688.0      32758020.0      33736494.0      34656032.0  \n",
       "2      25998340.0      26920466.0      27859305.0      28813463.0  \n",
       "3       2895092.0       2889104.0       2880703.0       2876101.0  \n",
       "4         80788.0         79223.0         78014.0         77281.0  \n",
       "\n",
       "[5 rows x 29 columns]"
      ]
     },
     "execution_count": 16,
     "metadata": {},
     "output_type": "execute_result"
    }
   ],
   "source": [
    "population1.head()"
   ]
  },
  {
   "cell_type": "code",
   "execution_count": 17,
   "metadata": {
    "collapsed": true
   },
   "outputs": [],
   "source": [
    "population_long = pd.wide_to_long(population1, stubnames='Population', i=['Country Name', 'Country Code'], j='year')  \n",
    "population_long = population_long.reset_index()"
   ]
  },
  {
   "cell_type": "code",
   "execution_count": 18,
   "metadata": {},
   "outputs": [
    {
     "data": {
      "text/html": [
       "<div>\n",
       "<style>\n",
       "    .dataframe thead tr:only-child th {\n",
       "        text-align: right;\n",
       "    }\n",
       "\n",
       "    .dataframe thead th {\n",
       "        text-align: left;\n",
       "    }\n",
       "\n",
       "    .dataframe tbody tr th {\n",
       "        vertical-align: top;\n",
       "    }\n",
       "</style>\n",
       "<table border=\"1\" class=\"dataframe\">\n",
       "  <thead>\n",
       "    <tr style=\"text-align: right;\">\n",
       "      <th></th>\n",
       "      <th>Country Name</th>\n",
       "      <th>Country Code</th>\n",
       "      <th>year</th>\n",
       "      <th>Population</th>\n",
       "    </tr>\n",
       "  </thead>\n",
       "  <tbody>\n",
       "    <tr>\n",
       "      <th>0</th>\n",
       "      <td>Aruba</td>\n",
       "      <td>ABW</td>\n",
       "      <td>1990</td>\n",
       "      <td>62149.0</td>\n",
       "    </tr>\n",
       "    <tr>\n",
       "      <th>1</th>\n",
       "      <td>Aruba</td>\n",
       "      <td>ABW</td>\n",
       "      <td>1991</td>\n",
       "      <td>64622.0</td>\n",
       "    </tr>\n",
       "    <tr>\n",
       "      <th>2</th>\n",
       "      <td>Aruba</td>\n",
       "      <td>ABW</td>\n",
       "      <td>1992</td>\n",
       "      <td>68235.0</td>\n",
       "    </tr>\n",
       "    <tr>\n",
       "      <th>3</th>\n",
       "      <td>Aruba</td>\n",
       "      <td>ABW</td>\n",
       "      <td>1993</td>\n",
       "      <td>72504.0</td>\n",
       "    </tr>\n",
       "    <tr>\n",
       "      <th>4</th>\n",
       "      <td>Aruba</td>\n",
       "      <td>ABW</td>\n",
       "      <td>1994</td>\n",
       "      <td>76700.0</td>\n",
       "    </tr>\n",
       "  </tbody>\n",
       "</table>\n",
       "</div>"
      ],
      "text/plain": [
       "  Country Name Country Code  year  Population\n",
       "0        Aruba          ABW  1990     62149.0\n",
       "1        Aruba          ABW  1991     64622.0\n",
       "2        Aruba          ABW  1992     68235.0\n",
       "3        Aruba          ABW  1993     72504.0\n",
       "4        Aruba          ABW  1994     76700.0"
      ]
     },
     "execution_count": 18,
     "metadata": {},
     "output_type": "execute_result"
    }
   ],
   "source": [
    "population_long.head(5)"
   ]
  },
  {
   "cell_type": "markdown",
   "metadata": {},
   "source": [
    "### Ecological Footprint data"
   ]
  },
  {
   "cell_type": "code",
   "execution_count": 19,
   "metadata": {
    "collapsed": true
   },
   "outputs": [],
   "source": [
    "footprint = pd.read_csv('../data/bubble chart/footprint.csv',\n",
    "                       low_memory=False)"
   ]
  },
  {
   "cell_type": "code",
   "execution_count": 20,
   "metadata": {
    "collapsed": true
   },
   "outputs": [],
   "source": [
    "footprint1 = footprint.loc[footprint['record'] == 'EFConsPerCap',['country', 'year', 'total']]\\\n",
    "                        .reset_index(drop = True)   "
   ]
  },
  {
   "cell_type": "code",
   "execution_count": 21,
   "metadata": {
    "collapsed": true
   },
   "outputs": [],
   "source": [
    "footprint1.columns = ['Country Name', 'year', 'Ecological Footprint per cap']"
   ]
  },
  {
   "cell_type": "markdown",
   "metadata": {},
   "source": [
    "### merge in one file"
   ]
  },
  {
   "cell_type": "code",
   "execution_count": 22,
   "metadata": {
    "collapsed": true
   },
   "outputs": [],
   "source": [
    "gdp_pop = gdp_long.merge(population_long, on=['Country Name', 'Country Code', 'year'], how = 'inner')"
   ]
  },
  {
   "cell_type": "code",
   "execution_count": 23,
   "metadata": {
    "collapsed": true
   },
   "outputs": [],
   "source": [
    "gdp_pop.loc[gdp_pop['Country Code']=='USA', 'Country Name'] = 'United States of America'"
   ]
  },
  {
   "cell_type": "code",
   "execution_count": 24,
   "metadata": {},
   "outputs": [
    {
     "data": {
      "text/html": [
       "<div>\n",
       "<style>\n",
       "    .dataframe thead tr:only-child th {\n",
       "        text-align: right;\n",
       "    }\n",
       "\n",
       "    .dataframe thead th {\n",
       "        text-align: left;\n",
       "    }\n",
       "\n",
       "    .dataframe tbody tr th {\n",
       "        vertical-align: top;\n",
       "    }\n",
       "</style>\n",
       "<table border=\"1\" class=\"dataframe\">\n",
       "  <thead>\n",
       "    <tr style=\"text-align: right;\">\n",
       "      <th></th>\n",
       "      <th>Country Name</th>\n",
       "      <th>Country Code</th>\n",
       "      <th>year</th>\n",
       "      <th>GDP</th>\n",
       "      <th>Population</th>\n",
       "    </tr>\n",
       "  </thead>\n",
       "  <tbody>\n",
       "    <tr>\n",
       "      <th>0</th>\n",
       "      <td>Afghanistan</td>\n",
       "      <td>AFG</td>\n",
       "      <td>1990</td>\n",
       "      <td>..</td>\n",
       "      <td>12249114.0</td>\n",
       "    </tr>\n",
       "    <tr>\n",
       "      <th>1</th>\n",
       "      <td>Afghanistan</td>\n",
       "      <td>AFG</td>\n",
       "      <td>1991</td>\n",
       "      <td>..</td>\n",
       "      <td>12993657.0</td>\n",
       "    </tr>\n",
       "    <tr>\n",
       "      <th>2</th>\n",
       "      <td>Afghanistan</td>\n",
       "      <td>AFG</td>\n",
       "      <td>1992</td>\n",
       "      <td>..</td>\n",
       "      <td>13981231.0</td>\n",
       "    </tr>\n",
       "    <tr>\n",
       "      <th>3</th>\n",
       "      <td>Afghanistan</td>\n",
       "      <td>AFG</td>\n",
       "      <td>1993</td>\n",
       "      <td>..</td>\n",
       "      <td>15095099.0</td>\n",
       "    </tr>\n",
       "    <tr>\n",
       "      <th>4</th>\n",
       "      <td>Afghanistan</td>\n",
       "      <td>AFG</td>\n",
       "      <td>1994</td>\n",
       "      <td>..</td>\n",
       "      <td>16172719.0</td>\n",
       "    </tr>\n",
       "  </tbody>\n",
       "</table>\n",
       "</div>"
      ],
      "text/plain": [
       "  Country Name Country Code  year GDP  Population\n",
       "0  Afghanistan          AFG  1990  ..  12249114.0\n",
       "1  Afghanistan          AFG  1991  ..  12993657.0\n",
       "2  Afghanistan          AFG  1992  ..  13981231.0\n",
       "3  Afghanistan          AFG  1993  ..  15095099.0\n",
       "4  Afghanistan          AFG  1994  ..  16172719.0"
      ]
     },
     "execution_count": 24,
     "metadata": {},
     "output_type": "execute_result"
    }
   ],
   "source": [
    "gdp_pop.head(5)"
   ]
  },
  {
   "cell_type": "code",
   "execution_count": 25,
   "metadata": {
    "collapsed": true
   },
   "outputs": [],
   "source": [
    "gdp_pop['year'] = gdp_pop['year'].astype(int)"
   ]
  },
  {
   "cell_type": "code",
   "execution_count": 26,
   "metadata": {
    "collapsed": true
   },
   "outputs": [],
   "source": [
    "gdp_pop_ef = gdp_pop.merge(footprint1, on = ['Country Name', 'year'] , how = 'inner')"
   ]
  },
  {
   "cell_type": "code",
   "execution_count": 27,
   "metadata": {},
   "outputs": [
    {
     "data": {
      "text/html": [
       "<div>\n",
       "<style>\n",
       "    .dataframe thead tr:only-child th {\n",
       "        text-align: right;\n",
       "    }\n",
       "\n",
       "    .dataframe thead th {\n",
       "        text-align: left;\n",
       "    }\n",
       "\n",
       "    .dataframe tbody tr th {\n",
       "        vertical-align: top;\n",
       "    }\n",
       "</style>\n",
       "<table border=\"1\" class=\"dataframe\">\n",
       "  <thead>\n",
       "    <tr style=\"text-align: right;\">\n",
       "      <th></th>\n",
       "      <th>Country Name</th>\n",
       "      <th>Country Code</th>\n",
       "      <th>year</th>\n",
       "      <th>GDP</th>\n",
       "      <th>Population</th>\n",
       "      <th>Ecological Footprint per cap</th>\n",
       "    </tr>\n",
       "  </thead>\n",
       "  <tbody>\n",
       "    <tr>\n",
       "      <th>12</th>\n",
       "      <td>Afghanistan</td>\n",
       "      <td>AFG</td>\n",
       "      <td>2002</td>\n",
       "      <td>1063.635574</td>\n",
       "      <td>21979923.0</td>\n",
       "      <td>0.663874</td>\n",
       "    </tr>\n",
       "    <tr>\n",
       "      <th>13</th>\n",
       "      <td>Afghanistan</td>\n",
       "      <td>AFG</td>\n",
       "      <td>2003</td>\n",
       "      <td>1099.194507</td>\n",
       "      <td>23064851.0</td>\n",
       "      <td>0.667214</td>\n",
       "    </tr>\n",
       "    <tr>\n",
       "      <th>14</th>\n",
       "      <td>Afghanistan</td>\n",
       "      <td>AFG</td>\n",
       "      <td>2004</td>\n",
       "      <td>1062.24936</td>\n",
       "      <td>24118979.0</td>\n",
       "      <td>0.595110</td>\n",
       "    </tr>\n",
       "    <tr>\n",
       "      <th>15</th>\n",
       "      <td>Afghanistan</td>\n",
       "      <td>AFG</td>\n",
       "      <td>2005</td>\n",
       "      <td>1136.123214</td>\n",
       "      <td>25070798.0</td>\n",
       "      <td>0.667128</td>\n",
       "    </tr>\n",
       "    <tr>\n",
       "      <th>16</th>\n",
       "      <td>Afghanistan</td>\n",
       "      <td>AFG</td>\n",
       "      <td>2006</td>\n",
       "      <td>1161.124889</td>\n",
       "      <td>25893450.0</td>\n",
       "      <td>0.627897</td>\n",
       "    </tr>\n",
       "    <tr>\n",
       "      <th>17</th>\n",
       "      <td>Afghanistan</td>\n",
       "      <td>AFG</td>\n",
       "      <td>2007</td>\n",
       "      <td>1284.775213</td>\n",
       "      <td>26616792.0</td>\n",
       "      <td>0.665303</td>\n",
       "    </tr>\n",
       "    <tr>\n",
       "      <th>18</th>\n",
       "      <td>Afghanistan</td>\n",
       "      <td>AFG</td>\n",
       "      <td>2008</td>\n",
       "      <td>1298.143159</td>\n",
       "      <td>27294031.0</td>\n",
       "      <td>0.655851</td>\n",
       "    </tr>\n",
       "    <tr>\n",
       "      <th>19</th>\n",
       "      <td>Afghanistan</td>\n",
       "      <td>AFG</td>\n",
       "      <td>2009</td>\n",
       "      <td>1531.173993</td>\n",
       "      <td>28004331.0</td>\n",
       "      <td>0.767021</td>\n",
       "    </tr>\n",
       "  </tbody>\n",
       "</table>\n",
       "</div>"
      ],
      "text/plain": [
       "   Country Name Country Code  year          GDP  Population  \\\n",
       "12  Afghanistan          AFG  2002  1063.635574  21979923.0   \n",
       "13  Afghanistan          AFG  2003  1099.194507  23064851.0   \n",
       "14  Afghanistan          AFG  2004   1062.24936  24118979.0   \n",
       "15  Afghanistan          AFG  2005  1136.123214  25070798.0   \n",
       "16  Afghanistan          AFG  2006  1161.124889  25893450.0   \n",
       "17  Afghanistan          AFG  2007  1284.775213  26616792.0   \n",
       "18  Afghanistan          AFG  2008  1298.143159  27294031.0   \n",
       "19  Afghanistan          AFG  2009  1531.173993  28004331.0   \n",
       "\n",
       "    Ecological Footprint per cap  \n",
       "12                      0.663874  \n",
       "13                      0.667214  \n",
       "14                      0.595110  \n",
       "15                      0.667128  \n",
       "16                      0.627897  \n",
       "17                      0.665303  \n",
       "18                      0.655851  \n",
       "19                      0.767021  "
      ]
     },
     "execution_count": 27,
     "metadata": {},
     "output_type": "execute_result"
    }
   ],
   "source": [
    "gdp_pop_ef.iloc[12:20]"
   ]
  },
  {
   "cell_type": "code",
   "execution_count": 28,
   "metadata": {
    "collapsed": true
   },
   "outputs": [],
   "source": [
    "gdp_pop_ef.loc[gdp_pop_ef['GDP'] == '..', 'GDP'] = np.nan\n",
    "gdp_pop_ef['GDP'] = gdp_pop_ef['GDP'].astype(float)"
   ]
  },
  {
   "cell_type": "code",
   "execution_count": 29,
   "metadata": {
    "collapsed": true
   },
   "outputs": [],
   "source": [
    "gdp_pop_ef['GDP_lag'] = gdp_pop_ef[['Country Name','GDP']].groupby('Country Name').shift(1)\n",
    "gdp_pop_ef['EF_lag'] = gdp_pop_ef[['Country Name','Ecological Footprint per cap']].groupby('Country Name').shift(1)"
   ]
  },
  {
   "cell_type": "code",
   "execution_count": 30,
   "metadata": {
    "collapsed": true
   },
   "outputs": [],
   "source": [
    "gdp_pop_ef['GDP_Growth%'] = (gdp_pop_ef['GDP'] - gdp_pop_ef['GDP_lag'])/gdp_pop_ef['GDP']*100\n",
    "gdp_pop_ef['EF_Growth%'] = (gdp_pop_ef['Ecological Footprint per cap'] - gdp_pop_ef['EF_lag'])\\\n",
    "                                    /gdp_pop_ef['Ecological Footprint per cap']*100"
   ]
  },
  {
   "cell_type": "code",
   "execution_count": 31,
   "metadata": {},
   "outputs": [
    {
     "data": {
      "text/html": [
       "<div>\n",
       "<style>\n",
       "    .dataframe thead tr:only-child th {\n",
       "        text-align: right;\n",
       "    }\n",
       "\n",
       "    .dataframe thead th {\n",
       "        text-align: left;\n",
       "    }\n",
       "\n",
       "    .dataframe tbody tr th {\n",
       "        vertical-align: top;\n",
       "    }\n",
       "</style>\n",
       "<table border=\"1\" class=\"dataframe\">\n",
       "  <thead>\n",
       "    <tr style=\"text-align: right;\">\n",
       "      <th></th>\n",
       "      <th>Country Name</th>\n",
       "      <th>Country Code</th>\n",
       "      <th>year</th>\n",
       "      <th>GDP</th>\n",
       "      <th>Population</th>\n",
       "      <th>Ecological Footprint per cap</th>\n",
       "      <th>GDP_lag</th>\n",
       "      <th>EF_lag</th>\n",
       "      <th>GDP_Growth%</th>\n",
       "      <th>EF_Growth%</th>\n",
       "    </tr>\n",
       "  </thead>\n",
       "  <tbody>\n",
       "    <tr>\n",
       "      <th>20</th>\n",
       "      <td>Afghanistan</td>\n",
       "      <td>AFG</td>\n",
       "      <td>2010</td>\n",
       "      <td>1614.255001</td>\n",
       "      <td>28803167.0</td>\n",
       "      <td>0.788914</td>\n",
       "      <td>1531.173993</td>\n",
       "      <td>0.767021</td>\n",
       "      <td>5.146709</td>\n",
       "      <td>2.775127</td>\n",
       "    </tr>\n",
       "    <tr>\n",
       "      <th>21</th>\n",
       "      <td>Afghanistan</td>\n",
       "      <td>AFG</td>\n",
       "      <td>2011</td>\n",
       "      <td>1660.739856</td>\n",
       "      <td>29708599.0</td>\n",
       "      <td>0.775082</td>\n",
       "      <td>1614.255001</td>\n",
       "      <td>0.788914</td>\n",
       "      <td>2.799045</td>\n",
       "      <td>-1.784590</td>\n",
       "    </tr>\n",
       "    <tr>\n",
       "      <th>22</th>\n",
       "      <td>Afghanistan</td>\n",
       "      <td>AFG</td>\n",
       "      <td>2012</td>\n",
       "      <td>1839.273579</td>\n",
       "      <td>30696958.0</td>\n",
       "      <td>0.891352</td>\n",
       "      <td>1660.739856</td>\n",
       "      <td>0.775082</td>\n",
       "      <td>9.706752</td>\n",
       "      <td>13.044186</td>\n",
       "    </tr>\n",
       "    <tr>\n",
       "      <th>23</th>\n",
       "      <td>Afghanistan</td>\n",
       "      <td>AFG</td>\n",
       "      <td>2013</td>\n",
       "      <td>1848.700026</td>\n",
       "      <td>31731688.0</td>\n",
       "      <td>0.888804</td>\n",
       "      <td>1839.273579</td>\n",
       "      <td>0.891352</td>\n",
       "      <td>0.509896</td>\n",
       "      <td>-0.286656</td>\n",
       "    </tr>\n",
       "    <tr>\n",
       "      <th>24</th>\n",
       "      <td>Albania</td>\n",
       "      <td>ALB</td>\n",
       "      <td>1990</td>\n",
       "      <td>4722.838166</td>\n",
       "      <td>3286542.0</td>\n",
       "      <td>1.766664</td>\n",
       "      <td>NaN</td>\n",
       "      <td>NaN</td>\n",
       "      <td>NaN</td>\n",
       "      <td>NaN</td>\n",
       "    </tr>\n",
       "    <tr>\n",
       "      <th>25</th>\n",
       "      <td>Albania</td>\n",
       "      <td>ALB</td>\n",
       "      <td>1991</td>\n",
       "      <td>3345.504049</td>\n",
       "      <td>3266790.0</td>\n",
       "      <td>1.659994</td>\n",
       "      <td>4722.838166</td>\n",
       "      <td>1.766664</td>\n",
       "      <td>-41.169704</td>\n",
       "      <td>-6.425923</td>\n",
       "    </tr>\n",
       "    <tr>\n",
       "      <th>26</th>\n",
       "      <td>Albania</td>\n",
       "      <td>ALB</td>\n",
       "      <td>1992</td>\n",
       "      <td>3123.512503</td>\n",
       "      <td>3247039.0</td>\n",
       "      <td>1.630008</td>\n",
       "      <td>3345.504049</td>\n",
       "      <td>1.659994</td>\n",
       "      <td>-7.107112</td>\n",
       "      <td>-1.839657</td>\n",
       "    </tr>\n",
       "    <tr>\n",
       "      <th>27</th>\n",
       "      <td>Albania</td>\n",
       "      <td>ALB</td>\n",
       "      <td>1993</td>\n",
       "      <td>3444.321792</td>\n",
       "      <td>3227287.0</td>\n",
       "      <td>1.367869</td>\n",
       "      <td>3123.512503</td>\n",
       "      <td>1.630008</td>\n",
       "      <td>9.314150</td>\n",
       "      <td>-19.164048</td>\n",
       "    </tr>\n",
       "    <tr>\n",
       "      <th>28</th>\n",
       "      <td>Albania</td>\n",
       "      <td>ALB</td>\n",
       "      <td>1994</td>\n",
       "      <td>3753.169904</td>\n",
       "      <td>3207536.0</td>\n",
       "      <td>1.227469</td>\n",
       "      <td>3444.321792</td>\n",
       "      <td>1.367869</td>\n",
       "      <td>8.228994</td>\n",
       "      <td>-11.438105</td>\n",
       "    </tr>\n",
       "    <tr>\n",
       "      <th>29</th>\n",
       "      <td>Albania</td>\n",
       "      <td>ALB</td>\n",
       "      <td>1995</td>\n",
       "      <td>4278.689663</td>\n",
       "      <td>3187784.0</td>\n",
       "      <td>1.161197</td>\n",
       "      <td>3753.169904</td>\n",
       "      <td>1.227469</td>\n",
       "      <td>12.282259</td>\n",
       "      <td>-5.707223</td>\n",
       "    </tr>\n",
       "  </tbody>\n",
       "</table>\n",
       "</div>"
      ],
      "text/plain": [
       "   Country Name Country Code  year          GDP  Population  \\\n",
       "20  Afghanistan          AFG  2010  1614.255001  28803167.0   \n",
       "21  Afghanistan          AFG  2011  1660.739856  29708599.0   \n",
       "22  Afghanistan          AFG  2012  1839.273579  30696958.0   \n",
       "23  Afghanistan          AFG  2013  1848.700026  31731688.0   \n",
       "24      Albania          ALB  1990  4722.838166   3286542.0   \n",
       "25      Albania          ALB  1991  3345.504049   3266790.0   \n",
       "26      Albania          ALB  1992  3123.512503   3247039.0   \n",
       "27      Albania          ALB  1993  3444.321792   3227287.0   \n",
       "28      Albania          ALB  1994  3753.169904   3207536.0   \n",
       "29      Albania          ALB  1995  4278.689663   3187784.0   \n",
       "\n",
       "    Ecological Footprint per cap      GDP_lag    EF_lag  GDP_Growth%  \\\n",
       "20                      0.788914  1531.173993  0.767021     5.146709   \n",
       "21                      0.775082  1614.255001  0.788914     2.799045   \n",
       "22                      0.891352  1660.739856  0.775082     9.706752   \n",
       "23                      0.888804  1839.273579  0.891352     0.509896   \n",
       "24                      1.766664          NaN       NaN          NaN   \n",
       "25                      1.659994  4722.838166  1.766664   -41.169704   \n",
       "26                      1.630008  3345.504049  1.659994    -7.107112   \n",
       "27                      1.367869  3123.512503  1.630008     9.314150   \n",
       "28                      1.227469  3444.321792  1.367869     8.228994   \n",
       "29                      1.161197  3753.169904  1.227469    12.282259   \n",
       "\n",
       "    EF_Growth%  \n",
       "20    2.775127  \n",
       "21   -1.784590  \n",
       "22   13.044186  \n",
       "23   -0.286656  \n",
       "24         NaN  \n",
       "25   -6.425923  \n",
       "26   -1.839657  \n",
       "27  -19.164048  \n",
       "28  -11.438105  \n",
       "29   -5.707223  "
      ]
     },
     "execution_count": 31,
     "metadata": {},
     "output_type": "execute_result"
    }
   ],
   "source": [
    "gdp_pop_ef.iloc[20:30]"
   ]
  },
  {
   "cell_type": "code",
   "execution_count": 32,
   "metadata": {
    "collapsed": true
   },
   "outputs": [],
   "source": [
    "# gdp_pop_ef.loc[gdp_pop_ef['Country Code']=='USA', 'Country Name'] = 'United States of America'"
   ]
  },
  {
   "cell_type": "code",
   "execution_count": 33,
   "metadata": {
    "collapsed": true
   },
   "outputs": [],
   "source": [
    "# gdp_pop_ef.loc[gdp_pop_ef['Country Code']=='USA']"
   ]
  },
  {
   "cell_type": "markdown",
   "metadata": {},
   "source": [
    "### add region information"
   ]
  },
  {
   "cell_type": "code",
   "execution_count": 34,
   "metadata": {
    "collapsed": true
   },
   "outputs": [],
   "source": [
    "country = pd.read_csv('../data/bubble chart/country_code.csv')"
   ]
  },
  {
   "cell_type": "code",
   "execution_count": 35,
   "metadata": {
    "collapsed": true
   },
   "outputs": [],
   "source": [
    "country.loc[country['Country Code']=='USA', 'TableName'] = 'United States of America'"
   ]
  },
  {
   "cell_type": "code",
   "execution_count": 36,
   "metadata": {},
   "outputs": [
    {
     "data": {
      "text/plain": [
       "Europe & Central Asia         58\n",
       "Sub-Saharan Africa            48\n",
       "Latin America & Caribbean     42\n",
       "East Asia & Pacific           37\n",
       "Middle East & North Africa    21\n",
       "South Asia                     8\n",
       "North America                  3\n",
       "Name: Region, dtype: int64"
      ]
     },
     "execution_count": 36,
     "metadata": {},
     "output_type": "execute_result"
    }
   ],
   "source": [
    "country['Region'].value_counts()"
   ]
  },
  {
   "cell_type": "code",
   "execution_count": 37,
   "metadata": {
    "collapsed": true
   },
   "outputs": [],
   "source": [
    "gdp_pop_ef_region = gdp_pop_ef.merge(country[['Country Code','Region']], on='Country Code',\n",
    "                                     how = 'left')"
   ]
  },
  {
   "cell_type": "code",
   "execution_count": 38,
   "metadata": {
    "collapsed": true
   },
   "outputs": [],
   "source": [
    "# gdp_pop_ef_region"
   ]
  },
  {
   "cell_type": "code",
   "execution_count": 39,
   "metadata": {
    "collapsed": true
   },
   "outputs": [],
   "source": [
    "gdp_pop_ef_region_nonan = gdp_pop_ef_region.dropna(axis=0, how='any')"
   ]
  },
  {
   "cell_type": "code",
   "execution_count": 40,
   "metadata": {},
   "outputs": [
    {
     "data": {
      "text/plain": [
       "array(['Afghanistan', 'Albania', 'Algeria', 'Angola', 'Argentina',\n",
       "       'Armenia', 'Australia', 'Austria', 'Azerbaijan', 'Bangladesh',\n",
       "       'Barbados', 'Belarus', 'Belgium', 'Benin', 'Bermuda', 'Bhutan',\n",
       "       'Bolivia', 'Bosnia and Herzegovina', 'Botswana', 'Brazil',\n",
       "       'Bulgaria', 'Burkina Faso', 'Burundi', 'Cabo Verde', 'Cambodia',\n",
       "       'Cameroon', 'Canada', 'Central African Republic', 'Chad', 'Chile',\n",
       "       'China', 'Colombia', 'Comoros', 'Costa Rica', 'Croatia', 'Cyprus',\n",
       "       'Czech Republic', 'Denmark', 'Djibouti', 'Dominica',\n",
       "       'Dominican Republic', 'Ecuador', 'El Salvador', 'Eritrea',\n",
       "       'Estonia', 'Ethiopia', 'Fiji', 'Finland', 'France', 'Georgia',\n",
       "       'Germany', 'Ghana', 'Greece', 'Grenada', 'Guatemala', 'Guinea',\n",
       "       'Guinea-Bissau', 'Guyana', 'Haiti', 'Honduras', 'Hungary', 'India',\n",
       "       'Indonesia', 'Iraq', 'Ireland', 'Israel', 'Italy', 'Jamaica',\n",
       "       'Japan', 'Jordan', 'Kenya', 'Latvia', 'Lebanon', 'Lesotho',\n",
       "       'Liberia', 'Lithuania', 'Luxembourg', 'Madagascar', 'Malawi',\n",
       "       'Malaysia', 'Mali', 'Mauritania', 'Mauritius', 'Mexico', 'Moldova',\n",
       "       'Mongolia', 'Montenegro', 'Morocco', 'Mozambique', 'Myanmar',\n",
       "       'Nepal', 'Netherlands', 'New Zealand', 'Nicaragua', 'Niger',\n",
       "       'Nigeria', 'Norway', 'Oman', 'Pakistan', 'Panama',\n",
       "       'Papua New Guinea', 'Paraguay', 'Peru', 'Philippines', 'Poland',\n",
       "       'Portugal', 'Romania', 'Russian Federation', 'Rwanda', 'Samoa',\n",
       "       'Sao Tome and Principe', 'Senegal', 'Serbia', 'Sierra Leone',\n",
       "       'Singapore', 'Slovenia', 'South Africa', 'South Sudan', 'Spain',\n",
       "       'Sri Lanka', 'Sudan', 'Swaziland', 'Sweden', 'Switzerland',\n",
       "       'Tajikistan', 'Thailand', 'Timor-Leste', 'Togo', 'Tonga',\n",
       "       'Trinidad and Tobago', 'Tunisia', 'Turkey', 'Turkmenistan',\n",
       "       'Uganda', 'Ukraine', 'United Kingdom', 'United States of America',\n",
       "       'Uruguay', 'Uzbekistan', 'Zambia', 'Zimbabwe'], dtype=object)"
      ]
     },
     "execution_count": 40,
     "metadata": {},
     "output_type": "execute_result"
    }
   ],
   "source": [
    "gdp_pop_ef_region_nonan['Country Name'].unique()"
   ]
  },
  {
   "cell_type": "code",
   "execution_count": null,
   "metadata": {
    "collapsed": true
   },
   "outputs": [],
   "source": []
  },
  {
   "cell_type": "markdown",
   "metadata": {},
   "source": [
    "## make the plot"
   ]
  },
  {
   "cell_type": "code",
   "execution_count": 48,
   "metadata": {
    "collapsed": true
   },
   "outputs": [],
   "source": [
    "years = gdp_pop_ef_region_nonan['year'].sort_values().unique()\n",
    "regions = gdp_pop_ef_region_nonan['Region'].unique()"
   ]
  },
  {
   "cell_type": "code",
   "execution_count": 49,
   "metadata": {
    "collapsed": true
   },
   "outputs": [],
   "source": [
    "# regions = regions.tolist()\n",
    "# years = years.tolist()"
   ]
  },
  {
   "cell_type": "code",
   "execution_count": 50,
   "metadata": {
    "collapsed": true
   },
   "outputs": [],
   "source": [
    "# make figure\n",
    "figure = {\n",
    "    'data': [],\n",
    "    'layout': {},\n",
    "    'frames': []\n",
    "}"
   ]
  },
  {
   "cell_type": "code",
   "execution_count": 51,
   "metadata": {
    "collapsed": true
   },
   "outputs": [],
   "source": [
    "# fill in most of layout\n",
    "figure['layout']['xaxis'] = {'range': [-30, 60], 'title': 'Ecological Footprint Growth %'}\n",
    "figure['layout']['yaxis'] = {'title': 'GDP Growth %', 'range': [-30, 60]}\n",
    "figure['layout']['hovermode'] = 'closest'\n",
    "figure['layout']['sliders'] = {\n",
    "    'args': [\n",
    "        'transition', {\n",
    "            'duration': 400,\n",
    "            'easing': 'cubic-in-out'\n",
    "        }\n",
    "    ],\n",
    "    'initialValue': '1991',\n",
    "    'plotlycommand': 'animate',\n",
    "    'values': years,\n",
    "    'visible': True\n",
    "}\n",
    "\n",
    "figure['layout']['updatemenus'] = [\n",
    "    {\n",
    "        'buttons': [\n",
    "            {\n",
    "                'args': [None, {'frame': {'duration': 500, 'redraw': False},\n",
    "                         'fromcurrent': True, 'transition': {'duration': 300, 'easing': 'quadratic-in-out'}}],\n",
    "                'label': 'Play',\n",
    "                'method': 'animate'\n",
    "            },\n",
    "            {\n",
    "                'args': [[None], {'frame': {'duration': 0, 'redraw': False}, 'mode': 'immediate',\n",
    "                'transition': {'duration': 0}}],\n",
    "                'label': 'Pause',\n",
    "                'method': 'animate'\n",
    "            }\n",
    "        ],\n",
    "        'direction': 'left',\n",
    "        'pad': {'r': 10, 't': 87},\n",
    "        'showactive': False,\n",
    "        'type': 'buttons',\n",
    "        'x': 0.1,\n",
    "        'xanchor': 'right',\n",
    "        'y': 0,\n",
    "        'yanchor': 'top'\n",
    "    }\n",
    "]\n",
    "\n",
    "sliders_dict = {\n",
    "    'active': 0,\n",
    "    'yanchor': 'top',\n",
    "    'xanchor': 'left',\n",
    "    'currentvalue': {\n",
    "        'font': {'size': 20},\n",
    "        'prefix': 'Year:',\n",
    "        'visible': True,\n",
    "        'xanchor': 'right'\n",
    "    },\n",
    "    'transition': {'duration': 300, 'easing': 'cubic-in-out'},\n",
    "    'pad': {'b': 10, 't': 50},\n",
    "    'len': 0.9,\n",
    "    'x': 0.1,\n",
    "    'y': 0,\n",
    "    'steps': []\n",
    "}"
   ]
  },
  {
   "cell_type": "code",
   "execution_count": 52,
   "metadata": {},
   "outputs": [
    {
     "name": "stderr",
     "output_type": "stream",
     "text": [
      "/Users/jingsong/anaconda2/lib/python2.7/site-packages/ipykernel_launcher.py:5: UserWarning:\n",
      "\n",
      "Boolean Series key will be reindexed to match DataFrame index.\n",
      "\n"
     ]
    }
   ],
   "source": [
    "# make data\n",
    "year = 1992\n",
    "for region in regions:\n",
    "    dataset_by_year = gdp_pop_ef_region_nonan[gdp_pop_ef_region_nonan['year'] == year]\n",
    "    dataset_by_year_and_cont = dataset_by_year[gdp_pop_ef_region_nonan['Region'] == region]\n",
    "\n",
    "    data_dict = {\n",
    "        'x': list(dataset_by_year_and_cont['EF_Growth%']),\n",
    "        'y': list(dataset_by_year_and_cont['GDP_Growth%']),\n",
    "        'mode': 'markers',\n",
    "        'text': list(dataset_by_year_and_cont['Country Name']),\n",
    "        'marker': {\n",
    "            'sizemode': 'area',\n",
    "            'sizeref': 200000,\n",
    "            'size': list(dataset_by_year_and_cont['Population'])\n",
    "        },\n",
    "        'name': region\n",
    "    }\n",
    "    figure['data'].append(data_dict)"
   ]
  },
  {
   "cell_type": "code",
   "execution_count": 53,
   "metadata": {},
   "outputs": [
    {
     "name": "stderr",
     "output_type": "stream",
     "text": [
      "/Users/jingsong/anaconda2/lib/python2.7/site-packages/ipykernel_launcher.py:6: UserWarning:\n",
      "\n",
      "Boolean Series key will be reindexed to match DataFrame index.\n",
      "\n"
     ]
    },
    {
     "data": {
      "text/plain": [
       "'file:///Users/jingsong/MSAN/06Spring2018B/2DataVisualization/project/visualization-Ecological-Footprint/code/bubble.html'"
      ]
     },
     "execution_count": 53,
     "metadata": {},
     "output_type": "execute_result"
    }
   ],
   "source": [
    "# make frames\n",
    "for year in years:\n",
    "    frame = {'data': [], 'name': str(year)}\n",
    "    for region in regions:\n",
    "        dataset_by_year = gdp_pop_ef_region_nonan[gdp_pop_ef_region_nonan['year'] == int(year)]\n",
    "        dataset_by_year_and_cont = dataset_by_year[gdp_pop_ef_region_nonan['Region'] == region]\n",
    "\n",
    "        data_dict = {\n",
    "            'x': list(dataset_by_year_and_cont['EF_Growth%']),\n",
    "            'y': list(dataset_by_year_and_cont['GDP_Growth%']),\n",
    "            'mode': 'markers',\n",
    "            'text': list(dataset_by_year_and_cont['Country Name']),\n",
    "            'marker': {\n",
    "                'sizemode': 'area',\n",
    "                'sizeref': 200000,\n",
    "                'size': list(dataset_by_year_and_cont['Population'])\n",
    "            },\n",
    "            'name': region\n",
    "        }\n",
    "        frame['data'].append(data_dict)\n",
    "\n",
    "    figure['frames'].append(frame)\n",
    "    slider_step = {'args': [\n",
    "        [year],\n",
    "        {'frame': {'duration': 300, 'redraw': False},\n",
    "         'mode': 'immediate',\n",
    "       'transition': {'duration': 300}}\n",
    "     ],\n",
    "     'label': year,\n",
    "     'method': 'animate'}\n",
    "    sliders_dict['steps'].append(slider_step)\n",
    "\n",
    "    \n",
    "figure['layout']['sliders'] = [sliders_dict]\n",
    "\n",
    "# py.iplot(figure)\n",
    "plotly.offline.plot(figure, filename='bubble.html') "
   ]
  },
  {
   "cell_type": "markdown",
   "metadata": {
    "collapsed": true
   },
   "source": [
    "** Above is the animated bubble chart showing the yearly Ecological Footprint Growth Vs. GDP growth from 1991 to 2013. The bubble size represents the country's population of that year.**"
   ]
  },
  {
   "cell_type": "markdown",
   "metadata": {},
   "source": [
    "### use online/grid"
   ]
  },
  {
   "cell_type": "code",
   "execution_count": 47,
   "metadata": {
    "scrolled": true
   },
   "outputs": [
    {
     "name": "stdout",
     "output_type": "stream",
     "text": [
      "https://plot.ly/~fliu23/268/\n"
     ]
    }
   ],
   "source": [
    "grid = Grid([Column(gdp_pop_ef_region_nonan[column_name], column_name) for column_name in gdp_pop_ef_region_nonan.columns])\n",
    "url = py.grid_ops.upload(grid, filename='dataframe_ex_2', world_readable=True, auto_open=True)\n",
    "print(url)"
   ]
  },
  {
   "cell_type": "code",
   "execution_count": 48,
   "metadata": {
    "collapsed": true
   },
   "outputs": [],
   "source": [
    "years = gdp_pop_ef_region_nonan['year'].sort_values().unique()\n",
    "regions = gdp_pop_ef_region_nonan['Region'].unique()"
   ]
  },
  {
   "cell_type": "code",
   "execution_count": null,
   "metadata": {
    "collapsed": true
   },
   "outputs": [],
   "source": []
  },
  {
   "cell_type": "code",
   "execution_count": 50,
   "metadata": {
    "collapsed": true
   },
   "outputs": [],
   "source": [
    "# make figure\n",
    "figure = {\n",
    "    'data': [],\n",
    "    'layout': {},\n",
    "    'frames': []\n",
    "}"
   ]
  },
  {
   "cell_type": "code",
   "execution_count": 51,
   "metadata": {
    "collapsed": true
   },
   "outputs": [],
   "source": [
    "# fill in most of layout\n",
    "figure['layout']['xaxis'] = {'range': [-30, 60], 'title': 'Ecological Footprint Growth %'}\n",
    "figure['layout']['yaxis'] = {'title': 'GDP Growth %', 'range': [-30, 60]}\n",
    "figure['layout']['hovermode'] = 'closest'\n",
    "figure['layout']['sliders'] = {\n",
    "    'args': [\n",
    "        'transition', {\n",
    "            'duration': 400,\n",
    "            'easing': 'cubic-in-out'\n",
    "        }\n",
    "    ],\n",
    "    'initialValue': '1991',\n",
    "    'plotlycommand': 'animate',\n",
    "    'values': years,\n",
    "    'visible': True\n",
    "}\n",
    "\n",
    "figure['layout']['updatemenus'] = [\n",
    "    {\n",
    "        'buttons': [\n",
    "            {\n",
    "                'args': [None, {'frame': {'duration': 500, 'redraw': False},\n",
    "                         'fromcurrent': True, 'transition': {'duration': 300, 'easing': 'quadratic-in-out'}}],\n",
    "                'label': 'Play',\n",
    "                'method': 'animate'\n",
    "            },\n",
    "            {\n",
    "                'args': [[None], {'frame': {'duration': 0, 'redraw': False}, 'mode': 'immediate',\n",
    "                'transition': {'duration': 0}}],\n",
    "                'label': 'Pause',\n",
    "                'method': 'animate'\n",
    "            }\n",
    "        ],\n",
    "        'direction': 'left',\n",
    "        'pad': {'r': 10, 't': 87},\n",
    "        'showactive': False,\n",
    "        'type': 'buttons',\n",
    "        'x': 0.1,\n",
    "        'xanchor': 'right',\n",
    "        'y': 0,\n",
    "        'yanchor': 'top'\n",
    "    }\n",
    "]\n",
    "\n",
    "sliders_dict = {\n",
    "    'active': 0,\n",
    "    'yanchor': 'top',\n",
    "    'xanchor': 'left',\n",
    "    'currentvalue': {\n",
    "        'font': {'size': 20},\n",
    "        'prefix': 'Year:',\n",
    "        'visible': True,\n",
    "        'xanchor': 'right'\n",
    "    },\n",
    "    'transition': {'duration': 300, 'easing': 'cubic-in-out'},\n",
    "    'pad': {'b': 10, 't': 50},\n",
    "    'len': 0.9,\n",
    "    'x': 0.1,\n",
    "    'y': 0,\n",
    "    'steps': []\n",
    "}"
   ]
  },
  {
   "cell_type": "code",
   "execution_count": 52,
   "metadata": {
    "scrolled": true
   },
   "outputs": [
    {
     "name": "stderr",
     "output_type": "stream",
     "text": [
      "/Users/jingsong/anaconda2/lib/python2.7/site-packages/ipykernel_launcher.py:5: UserWarning:\n",
      "\n",
      "Boolean Series key will be reindexed to match DataFrame index.\n",
      "\n"
     ]
    }
   ],
   "source": [
    "# make data\n",
    "year = 1992\n",
    "for region in regions:\n",
    "    dataset_by_year = gdp_pop_ef_region_nonan[gdp_pop_ef_region_nonan['year'] == year]\n",
    "    dataset_by_year_and_cont = dataset_by_year[gdp_pop_ef_region_nonan['Region'] == region]\n",
    "\n",
    "    data_dict = {\n",
    "        'x': list(dataset_by_year_and_cont['EF_Growth%']),\n",
    "        'y': list(dataset_by_year_and_cont['GDP_Growth%']),\n",
    "        'mode': 'markers',\n",
    "        'text': list(dataset_by_year_and_cont['Country Name']),\n",
    "        'marker': {\n",
    "            'sizemode': 'area',\n",
    "            'sizeref': 200000,\n",
    "            'size': list(dataset_by_year_and_cont['Population'])\n",
    "        },\n",
    "        'name': region\n",
    "    }\n",
    "    figure['data'].append(data_dict)"
   ]
  },
  {
   "cell_type": "code",
   "execution_count": 53,
   "metadata": {},
   "outputs": [
    {
     "name": "stderr",
     "output_type": "stream",
     "text": [
      "/Users/jingsong/anaconda2/lib/python2.7/site-packages/ipykernel_launcher.py:6: UserWarning:\n",
      "\n",
      "Boolean Series key will be reindexed to match DataFrame index.\n",
      "\n"
     ]
    },
    {
     "data": {
      "text/plain": [
       "'file:///Users/jingsong/MSAN/06Spring2018B/2DataVisualization/project/visualization-Ecological-Footprint/code/bubble.html'"
      ]
     },
     "execution_count": 53,
     "metadata": {},
     "output_type": "execute_result"
    }
   ],
   "source": [
    "# make frames\n",
    "for year in years:\n",
    "    frame = {'data': [], 'name': str(year)}\n",
    "    for region in regions:\n",
    "        dataset_by_year = gdp_pop_ef_region_nonan[gdp_pop_ef_region_nonan['year'] == int(year)]\n",
    "        dataset_by_year_and_cont = dataset_by_year[gdp_pop_ef_region_nonan['Region'] == region]\n",
    "\n",
    "        data_dict = {\n",
    "            'x': list(dataset_by_year_and_cont['EF_Growth%']),\n",
    "            'y': list(dataset_by_year_and_cont['GDP_Growth%']),\n",
    "            'mode': 'markers',\n",
    "            'text': list(dataset_by_year_and_cont['Country Name']),\n",
    "            'marker': {\n",
    "                'sizemode': 'area',\n",
    "                'sizeref': 200000,\n",
    "                'size': list(dataset_by_year_and_cont['Population'])\n",
    "            },\n",
    "            'name': region\n",
    "        }\n",
    "        frame['data'].append(data_dict)\n",
    "\n",
    "    figure['frames'].append(frame)\n",
    "    slider_step = {'args': [\n",
    "        [year],\n",
    "        {'frame': {'duration': 300, 'redraw': False},\n",
    "         'mode': 'immediate',\n",
    "       'transition': {'duration': 300}}\n",
    "     ],\n",
    "     'label': year,\n",
    "     'method': 'animate'}\n",
    "    sliders_dict['steps'].append(slider_step)\n",
    "\n",
    "    \n",
    "figure['layout']['sliders'] = [sliders_dict]\n",
    "\n",
    "# py.iplot(figure)\n",
    "plotly.offline.plot(figure, filename='bubble.html') "
   ]
  },
  {
   "cell_type": "code",
   "execution_count": 56,
   "metadata": {},
   "outputs": [
    {
     "ename": "PlotlyRequestError",
     "evalue": "Figure field is invalid. Reason: Raw data arrays are not allowed at this endpoint. Use grid references instead. Raw data found at the following paths in the figure [('data', 0, u'marker', u'size'), ('data', 0, u'text'), ('data', 0, u'x'), ('data', 0, u'y'), ('data', 1, u'marker', u'size'), ('data', 1, u'text'), ('data', 1, u'x'), ('data', 1, u'y'), ('data', 2, u'marker', u'size'), ('data', 2, u'text'), ('data', 2, u'x'), ('data', 2, u'y'), ('data', 3, u'marker', u'size'), ('data', 3, u'text'), ('data', 3, u'x'), ('data', 3, u'y'), ('data', 4, u'marker', u'size'), ('data', 4, u'text'), ('data', 4, u'x'), ('data', 4, u'y'), ('data', 5, u'marker', u'size'), ('data', 5, u'text'), ('data', 5, u'x'), ('data', 5, u'y'), ('data', 6, u'marker', u'size'), ('data', 6, u'text'), ('data', 6, u'x'), ('data', 6, u'y'), ('frames', 0, 'data', 0, u'marker', u'size'), ('frames', 0, 'data', 0, u'text'), ('frames', 0, 'data', 0, u'x'), ('frames', 0, 'data', 0, u'y'), ('frames', 0, 'data', 1, u'marker', u'size'), ('frames', 0, 'data', 1, u'text'), ('frames', 0, 'data', 1, u'x'), ('frames', 0, 'data', 1, u'y'), ('frames', 0, 'data', 2, u'marker', u'size'), ('frames', 0, 'data', 2, u'text'), ('frames', 0, 'data', 2, u'x'), ('frames', 0, 'data', 2, u'y'), ('frames', 0, 'data', 3, u'marker', u'size'), ('frames', 0, 'data', 3, u'text'), ('frames', 0, 'data', 3, u'x'), ('frames', 0, 'data', 3, u'y'), ('frames', 0, 'data', 4, u'marker', u'size'), ('frames', 0, 'data', 4, u'text'), ('frames', 0, 'data', 4, u'x'), ('frames', 0, 'data', 4, u'y'), ('frames', 0, 'data', 5, u'marker', u'size'), ('frames', 0, 'data', 5, u'text'), ('frames', 0, 'data', 5, u'x'), ('frames', 0, 'data', 5, u'y'), ('frames', 0, 'data', 6, u'marker', u'size'), ('frames', 0, 'data', 6, u'text'), ('frames', 0, 'data', 6, u'x'), ('frames', 0, 'data', 6, u'y'), ('frames', 1, 'data', 0, u'marker', u'size'), ('frames', 1, 'data', 0, u'text'), ('frames', 1, 'data', 0, u'x'), ('frames', 1, 'data', 0, u'y'), ('frames', 1, 'data', 1, u'marker', u'size'), ('frames', 1, 'data', 1, u'text'), ('frames', 1, 'data', 1, u'x'), ('frames', 1, 'data', 1, u'y'), ('frames', 1, 'data', 2, u'marker', u'size'), ('frames', 1, 'data', 2, u'text'), ('frames', 1, 'data', 2, u'x'), ('frames', 1, 'data', 2, u'y'), ('frames', 1, 'data', 3, u'marker', u'size'), ('frames', 1, 'data', 3, u'text'), ('frames', 1, 'data', 3, u'x'), ('frames', 1, 'data', 3, u'y'), ('frames', 1, 'data', 4, u'marker', u'size'), ('frames', 1, 'data', 4, u'text'), ('frames', 1, 'data', 4, u'x'), ('frames', 1, 'data', 4, u'y'), ('frames', 1, 'data', 5, u'marker', u'size'), ('frames', 1, 'data', 5, u'text'), ('frames', 1, 'data', 5, u'x'), ('frames', 1, 'data', 5, u'y'), ('frames', 1, 'data', 6, u'marker', u'size'), ('frames', 1, 'data', 6, u'text'), ('frames', 1, 'data', 6, u'x'), ('frames', 1, 'data', 6, u'y'), ('frames', 2, 'data', 0, u'marker', u'size'), ('frames', 2, 'data', 0, u'text'), ('frames', 2, 'data', 0, u'x'), ('frames', 2, 'data', 0, u'y'), ('frames', 2, 'data', 1, u'marker', u'size'), ('frames', 2, 'data', 1, u'text'), ('frames', 2, 'data', 1, u'x'), ('frames', 2, 'data', 1, u'y'), ('frames', 2, 'data', 2, u'marker', u'size'), ('frames', 2, 'data', 2, u'text'), ('frames', 2, 'data', 2, u'x'), ('frames', 2, 'data', 2, u'y'), ('frames', 2, 'data', 3, u'marker', u'size'), ('frames', 2, 'data', 3, u'text'), ('frames', 2, 'data', 3, u'x'), ('frames', 2, 'data', 3, u'y'), ('frames', 2, 'data', 4, u'marker', u'size'), ('frames', 2, 'data', 4, u'text'), ('frames', 2, 'data', 4, u'x'), ('frames', 2, 'data', 4, u'y'), ('frames', 2, 'data', 5, u'marker', u'size'), ('frames', 2, 'data', 5, u'text'), ('frames', 2, 'data', 5, u'x'), ('frames', 2, 'data', 5, u'y'), ('frames', 2, 'data', 6, u'marker', u'size'), ('frames', 2, 'data', 6, u'text'), ('frames', 2, 'data', 6, u'x'), ('frames', 2, 'data', 6, u'y'), ('frames', 3, 'data', 0, u'marker', u'size'), ('frames', 3, 'data', 0, u'text'), ('frames', 3, 'data', 0, u'x'), ('frames', 3, 'data', 0, u'y'), ('frames', 3, 'data', 1, u'marker', u'size'), ('frames', 3, 'data', 1, u'text'), ('frames', 3, 'data', 1, u'x'), ('frames', 3, 'data', 1, u'y'), ('frames', 3, 'data', 2, u'marker', u'size'), ('frames', 3, 'data', 2, u'text'), ('frames', 3, 'data', 2, u'x'), ('frames', 3, 'data', 2, u'y'), ('frames', 3, 'data', 3, u'marker', u'size'), ('frames', 3, 'data', 3, u'text'), ('frames', 3, 'data', 3, u'x'), ('frames', 3, 'data', 3, u'y'), ('frames', 3, 'data', 4, u'marker', u'size'), ('frames', 3, 'data', 4, u'text'), ('frames', 3, 'data', 4, u'x'), ('frames', 3, 'data', 4, u'y'), ('frames', 3, 'data', 5, u'marker', u'size'), ('frames', 3, 'data', 5, u'text'), ('frames', 3, 'data', 5, u'x'), ('frames', 3, 'data', 5, u'y'), ('frames', 3, 'data', 6, u'marker', u'size'), ('frames', 3, 'data', 6, u'text'), ('frames', 3, 'data', 6, u'x'), ('frames', 3, 'data', 6, u'y'), ('frames', 4, 'data', 0, u'marker', u'size'), ('frames', 4, 'data', 0, u'text'), ('frames', 4, 'data', 0, u'x'), ('frames', 4, 'data', 0, u'y'), ('frames', 4, 'data', 1, u'marker', u'size'), ('frames', 4, 'data', 1, u'text'), ('frames', 4, 'data', 1, u'x'), ('frames', 4, 'data', 1, u'y'), ('frames', 4, 'data', 2, u'marker', u'size'), ('frames', 4, 'data', 2, u'text'), ('frames', 4, 'data', 2, u'x'), ('frames', 4, 'data', 2, u'y'), ('frames', 4, 'data', 3, u'marker', u'size'), ('frames', 4, 'data', 3, u'text'), ('frames', 4, 'data', 3, u'x'), ('frames', 4, 'data', 3, u'y'), ('frames', 4, 'data', 4, u'marker', u'size'), ('frames', 4, 'data', 4, u'text'), ('frames', 4, 'data', 4, u'x'), ('frames', 4, 'data', 4, u'y'), ('frames', 4, 'data', 5, u'marker', u'size'), ('frames', 4, 'data', 5, u'text'), ('frames', 4, 'data', 5, u'x'), ('frames', 4, 'data', 5, u'y'), ('frames', 4, 'data', 6, u'marker', u'size'), ('frames', 4, 'data', 6, u'text'), ('frames', 4, 'data', 6, u'x'), ('frames', 4, 'data', 6, u'y'), ('frames', 5, 'data', 0, u'marker', u'size'), ('frames', 5, 'data', 0, u'text'), ('frames', 5, 'data', 0, u'x'), ('frames', 5, 'data', 0, u'y'), ('frames', 5, 'data', 1, u'marker', u'size'), ('frames', 5, 'data', 1, u'text'), ('frames', 5, 'data', 1, u'x'), ('frames', 5, 'data', 1, u'y'), ('frames', 5, 'data', 2, u'marker', u'size'), ('frames', 5, 'data', 2, u'text'), ('frames', 5, 'data', 2, u'x'), ('frames', 5, 'data', 2, u'y'), ('frames', 5, 'data', 3, u'marker', u'size'), ('frames', 5, 'data', 3, u'text'), ('frames', 5, 'data', 3, u'x'), ('frames', 5, 'data', 3, u'y'), ('frames', 5, 'data', 4, u'marker', u'size'), ('frames', 5, 'data', 4, u'text'), ('frames', 5, 'data', 4, u'x'), ('frames', 5, 'data', 4, u'y'), ('frames', 5, 'data', 5, u'marker', u'size'), ('frames', 5, 'data', 5, u'text'), ('frames', 5, 'data', 5, u'x'), ('frames', 5, 'data', 5, u'y'), ('frames', 5, 'data', 6, u'marker', u'size'), ('frames', 5, 'data', 6, u'text'), ('frames', 5, 'data', 6, u'x'), ('frames', 5, 'data', 6, u'y'), ('frames', 6, 'data', 0, u'marker', u'size'), ('frames', 6, 'data', 0, u'text'), ('frames', 6, 'data', 0, u'x'), ('frames', 6, 'data', 0, u'y'), ('frames', 6, 'data', 1, u'marker', u'size'), ('frames', 6, 'data', 1, u'text'), ('frames', 6, 'data', 1, u'x'), ('frames', 6, 'data', 1, u'y'), ('frames', 6, 'data', 2, u'marker', u'size'), ('frames', 6, 'data', 2, u'text'), ('frames', 6, 'data', 2, u'x'), ('frames', 6, 'data', 2, u'y'), ('frames', 6, 'data', 3, u'marker', u'size'), ('frames', 6, 'data', 3, u'text'), ('frames', 6, 'data', 3, u'x'), ('frames', 6, 'data', 3, u'y'), ('frames', 6, 'data', 4, u'marker', u'size'), ('frames', 6, 'data', 4, u'text'), ('frames', 6, 'data', 4, u'x'), ('frames', 6, 'data', 4, u'y'), ('frames', 6, 'data', 5, u'marker', u'size'), ('frames', 6, 'data', 5, u'text'), ('frames', 6, 'data', 5, u'x'), ('frames', 6, 'data', 5, u'y'), ('frames', 6, 'data', 6, u'marker', u'size'), ('frames', 6, 'data', 6, u'text'), ('frames', 6, 'data', 6, u'x'), ('frames', 6, 'data', 6, u'y'), ('frames', 7, 'data', 0, u'marker', u'size'), ('frames', 7, 'data', 0, u'text'), ('frames', 7, 'data', 0, u'x'), ('frames', 7, 'data', 0, u'y'), ('frames', 7, 'data', 1, u'marker', u'size'), ('frames', 7, 'data', 1, u'text'), ('frames', 7, 'data', 1, u'x'), ('frames', 7, 'data', 1, u'y'), ('frames', 7, 'data', 2, u'marker', u'size'), ('frames', 7, 'data', 2, u'text'), ('frames', 7, 'data', 2, u'x'), ('frames', 7, 'data', 2, u'y'), ('frames', 7, 'data', 3, u'marker', u'size'), ('frames', 7, 'data', 3, u'text'), ('frames', 7, 'data', 3, u'x'), ('frames', 7, 'data', 3, u'y'), ('frames', 7, 'data', 4, u'marker', u'size'), ('frames', 7, 'data', 4, u'text'), ('frames', 7, 'data', 4, u'x'), ('frames', 7, 'data', 4, u'y'), ('frames', 7, 'data', 5, u'marker', u'size'), ('frames', 7, 'data', 5, u'text'), ('frames', 7, 'data', 5, u'x'), ('frames', 7, 'data', 5, u'y'), ('frames', 7, 'data', 6, u'marker', u'size'), ('frames', 7, 'data', 6, u'text'), ('frames', 7, 'data', 6, u'x'), ('frames', 7, 'data', 6, u'y'), ('frames', 8, 'data', 0, u'marker', u'size'), ('frames', 8, 'data', 0, u'text'), ('frames', 8, 'data', 0, u'x'), ('frames', 8, 'data', 0, u'y'), ('frames', 8, 'data', 1, u'marker', u'size'), ('frames', 8, 'data', 1, u'text'), ('frames', 8, 'data', 1, u'x'), ('frames', 8, 'data', 1, u'y'), ('frames', 8, 'data', 2, u'marker', u'size'), ('frames', 8, 'data', 2, u'text'), ('frames', 8, 'data', 2, u'x'), ('frames', 8, 'data', 2, u'y'), ('frames', 8, 'data', 3, u'marker', u'size'), ('frames', 8, 'data', 3, u'text'), ('frames', 8, 'data', 3, u'x'), ('frames', 8, 'data', 3, u'y'), ('frames', 8, 'data', 4, u'marker', u'size'), ('frames', 8, 'data', 4, u'text'), ('frames', 8, 'data', 4, u'x'), ('frames', 8, 'data', 4, u'y'), ('frames', 8, 'data', 5, u'marker', u'size'), ('frames', 8, 'data', 5, u'text'), ('frames', 8, 'data', 5, u'x'), ('frames', 8, 'data', 5, u'y'), ('frames', 8, 'data', 6, u'marker', u'size'), ('frames', 8, 'data', 6, u'text'), ('frames', 8, 'data', 6, u'x'), ('frames', 8, 'data', 6, u'y'), ('frames', 9, 'data', 0, u'marker', u'size'), ('frames', 9, 'data', 0, u'text'), ('frames', 9, 'data', 0, u'x'), ('frames', 9, 'data', 0, u'y'), ('frames', 9, 'data', 1, u'marker', u'size'), ('frames', 9, 'data', 1, u'text'), ('frames', 9, 'data', 1, u'x'), ('frames', 9, 'data', 1, u'y'), ('frames', 9, 'data', 2, u'marker', u'size'), ('frames', 9, 'data', 2, u'text'), ('frames', 9, 'data', 2, u'x'), ('frames', 9, 'data', 2, u'y'), ('frames', 9, 'data', 3, u'marker', u'size'), ('frames', 9, 'data', 3, u'text'), ('frames', 9, 'data', 3, u'x'), ('frames', 9, 'data', 3, u'y'), ('frames', 9, 'data', 4, u'marker', u'size'), ('frames', 9, 'data', 4, u'text'), ('frames', 9, 'data', 4, u'x'), ('frames', 9, 'data', 4, u'y'), ('frames', 9, 'data', 5, u'marker', u'size'), ('frames', 9, 'data', 5, u'text'), ('frames', 9, 'data', 5, u'x'), ('frames', 9, 'data', 5, u'y'), ('frames', 9, 'data', 6, u'marker', u'size'), ('frames', 9, 'data', 6, u'text'), ('frames', 9, 'data', 6, u'x'), ('frames', 9, 'data', 6, u'y'), ('frames', 10, 'data', 0, u'marker', u'size'), ('frames', 10, 'data', 0, u'text'), ('frames', 10, 'data', 0, u'x'), ('frames', 10, 'data', 0, u'y'), ('frames', 10, 'data', 1, u'marker', u'size'), ('frames', 10, 'data', 1, u'text'), ('frames', 10, 'data', 1, u'x'), ('frames', 10, 'data', 1, u'y'), ('frames', 10, 'data', 2, u'marker', u'size'), ('frames', 10, 'data', 2, u'text'), ('frames', 10, 'data', 2, u'x'), ('frames', 10, 'data', 2, u'y'), ('frames', 10, 'data', 3, u'marker', u'size'), ('frames', 10, 'data', 3, u'text'), ('frames', 10, 'data', 3, u'x'), ('frames', 10, 'data', 3, u'y'), ('frames', 10, 'data', 4, u'marker', u'size'), ('frames', 10, 'data', 4, u'text'), ('frames', 10, 'data', 4, u'x'), ('frames', 10, 'data', 4, u'y'), ('frames', 10, 'data', 5, u'marker', u'size'), ('frames', 10, 'data', 5, u'text'), ('frames', 10, 'data', 5, u'x'), ('frames', 10, 'data', 5, u'y'), ('frames', 10, 'data', 6, u'marker', u'size'), ('frames', 10, 'data', 6, u'text'), ('frames', 10, 'data', 6, u'x'), ('frames', 10, 'data', 6, u'y'), ('frames', 11, 'data', 0, u'marker', u'size'), ('frames', 11, 'data', 0, u'text'), ('frames', 11, 'data', 0, u'x'), ('frames', 11, 'data', 0, u'y'), ('frames', 11, 'data', 1, u'marker', u'size'), ('frames', 11, 'data', 1, u'text'), ('frames', 11, 'data', 1, u'x'), ('frames', 11, 'data', 1, u'y'), ('frames', 11, 'data', 2, u'marker', u'size'), ('frames', 11, 'data', 2, u'text'), ('frames', 11, 'data', 2, u'x'), ('frames', 11, 'data', 2, u'y'), ('frames', 11, 'data', 3, u'marker', u'size'), ('frames', 11, 'data', 3, u'text'), ('frames', 11, 'data', 3, u'x'), ('frames', 11, 'data', 3, u'y'), ('frames', 11, 'data', 4, u'marker', u'size'), ('frames', 11, 'data', 4, u'text'), ('frames', 11, 'data', 4, u'x'), ('frames', 11, 'data', 4, u'y'), ('frames', 11, 'data', 5, u'marker', u'size'), ('frames', 11, 'data', 5, u'text'), ('frames', 11, 'data', 5, u'x'), ('frames', 11, 'data', 5, u'y'), ('frames', 11, 'data', 6, u'marker', u'size'), ('frames', 11, 'data', 6, u'text'), ('frames', 11, 'data', 6, u'x'), ('frames', 11, 'data', 6, u'y'), ('frames', 12, 'data', 0, u'marker', u'size'), ('frames', 12, 'data', 0, u'text'), ('frames', 12, 'data', 0, u'x'), ('frames', 12, 'data', 0, u'y'), ('frames', 12, 'data', 1, u'marker', u'size'), ('frames', 12, 'data', 1, u'text'), ('frames', 12, 'data', 1, u'x'), ('frames', 12, 'data', 1, u'y'), ('frames', 12, 'data', 2, u'marker', u'size'), ('frames', 12, 'data', 2, u'text'), ('frames', 12, 'data', 2, u'x'), ('frames', 12, 'data', 2, u'y'), ('frames', 12, 'data', 3, u'marker', u'size'), ('frames', 12, 'data', 3, u'text'), ('frames', 12, 'data', 3, u'x'), ('frames', 12, 'data', 3, u'y'), ('frames', 12, 'data', 4, u'marker', u'size'), ('frames', 12, 'data', 4, u'text'), ('frames', 12, 'data', 4, u'x'), ('frames', 12, 'data', 4, u'y'), ('frames', 12, 'data', 5, u'marker', u'size'), ('frames', 12, 'data', 5, u'text'), ('frames', 12, 'data', 5, u'x'), ('frames', 12, 'data', 5, u'y'), ('frames', 12, 'data', 6, u'marker', u'size'), ('frames', 12, 'data', 6, u'text'), ('frames', 12, 'data', 6, u'x'), ('frames', 12, 'data', 6, u'y'), ('frames', 13, 'data', 0, u'marker', u'size'), ('frames', 13, 'data', 0, u'text'), ('frames', 13, 'data', 0, u'x'), ('frames', 13, 'data', 0, u'y'), ('frames', 13, 'data', 1, u'marker', u'size'), ('frames', 13, 'data', 1, u'text'), ('frames', 13, 'data', 1, u'x'), ('frames', 13, 'data', 1, u'y'), ('frames', 13, 'data', 2, u'marker', u'size'), ('frames', 13, 'data', 2, u'text'), ('frames', 13, 'data', 2, u'x'), ('frames', 13, 'data', 2, u'y'), ('frames', 13, 'data', 3, u'marker', u'size'), ('frames', 13, 'data', 3, u'text'), ('frames', 13, 'data', 3, u'x'), ('frames', 13, 'data', 3, u'y'), ('frames', 13, 'data', 4, u'marker', u'size'), ('frames', 13, 'data', 4, u'text'), ('frames', 13, 'data', 4, u'x'), ('frames', 13, 'data', 4, u'y'), ('frames', 13, 'data', 5, u'marker', u'size'), ('frames', 13, 'data', 5, u'text'), ('frames', 13, 'data', 5, u'x'), ('frames', 13, 'data', 5, u'y'), ('frames', 13, 'data', 6, u'marker', u'size'), ('frames', 13, 'data', 6, u'text'), ('frames', 13, 'data', 6, u'x'), ('frames', 13, 'data', 6, u'y'), ('frames', 14, 'data', 0, u'marker', u'size'), ('frames', 14, 'data', 0, u'text'), ('frames', 14, 'data', 0, u'x'), ('frames', 14, 'data', 0, u'y'), ('frames', 14, 'data', 1, u'marker', u'size'), ('frames', 14, 'data', 1, u'text'), ('frames', 14, 'data', 1, u'x'), ('frames', 14, 'data', 1, u'y'), ('frames', 14, 'data', 2, u'marker', u'size'), ('frames', 14, 'data', 2, u'text'), ('frames', 14, 'data', 2, u'x'), ('frames', 14, 'data', 2, u'y'), ('frames', 14, 'data', 3, u'marker', u'size'), ('frames', 14, 'data', 3, u'text'), ('frames', 14, 'data', 3, u'x'), ('frames', 14, 'data', 3, u'y'), ('frames', 14, 'data', 4, u'marker', u'size'), ('frames', 14, 'data', 4, u'text'), ('frames', 14, 'data', 4, u'x'), ('frames', 14, 'data', 4, u'y'), ('frames', 14, 'data', 5, u'marker', u'size'), ('frames', 14, 'data', 5, u'text'), ('frames', 14, 'data', 5, u'x'), ('frames', 14, 'data', 5, u'y'), ('frames', 14, 'data', 6, u'marker', u'size'), ('frames', 14, 'data', 6, u'text'), ('frames', 14, 'data', 6, u'x'), ('frames', 14, 'data', 6, u'y'), ('frames', 15, 'data', 0, u'marker', u'size'), ('frames', 15, 'data', 0, u'text'), ('frames', 15, 'data', 0, u'x'), ('frames', 15, 'data', 0, u'y'), ('frames', 15, 'data', 1, u'marker', u'size'), ('frames', 15, 'data', 1, u'text'), ('frames', 15, 'data', 1, u'x'), ('frames', 15, 'data', 1, u'y'), ('frames', 15, 'data', 2, u'marker', u'size'), ('frames', 15, 'data', 2, u'text'), ('frames', 15, 'data', 2, u'x'), ('frames', 15, 'data', 2, u'y'), ('frames', 15, 'data', 3, u'marker', u'size'), ('frames', 15, 'data', 3, u'text'), ('frames', 15, 'data', 3, u'x'), ('frames', 15, 'data', 3, u'y'), ('frames', 15, 'data', 4, u'marker', u'size'), ('frames', 15, 'data', 4, u'text'), ('frames', 15, 'data', 4, u'x'), ('frames', 15, 'data', 4, u'y'), ('frames', 15, 'data', 5, u'marker', u'size'), ('frames', 15, 'data', 5, u'text'), ('frames', 15, 'data', 5, u'x'), ('frames', 15, 'data', 5, u'y'), ('frames', 15, 'data', 6, u'marker', u'size'), ('frames', 15, 'data', 6, u'text'), ('frames', 15, 'data', 6, u'x'), ('frames', 15, 'data', 6, u'y'), ('frames', 16, 'data', 0, u'marker', u'size'), ('frames', 16, 'data', 0, u'text'), ('frames', 16, 'data', 0, u'x'), ('frames', 16, 'data', 0, u'y'), ('frames', 16, 'data', 1, u'marker', u'size'), ('frames', 16, 'data', 1, u'text'), ('frames', 16, 'data', 1, u'x'), ('frames', 16, 'data', 1, u'y'), ('frames', 16, 'data', 2, u'marker', u'size'), ('frames', 16, 'data', 2, u'text'), ('frames', 16, 'data', 2, u'x'), ('frames', 16, 'data', 2, u'y'), ('frames', 16, 'data', 3, u'marker', u'size'), ('frames', 16, 'data', 3, u'text'), ('frames', 16, 'data', 3, u'x'), ('frames', 16, 'data', 3, u'y'), ('frames', 16, 'data', 4, u'marker', u'size'), ('frames', 16, 'data', 4, u'text'), ('frames', 16, 'data', 4, u'x'), ('frames', 16, 'data', 4, u'y'), ('frames', 16, 'data', 5, u'marker', u'size'), ('frames', 16, 'data', 5, u'text'), ('frames', 16, 'data', 5, u'x'), ('frames', 16, 'data', 5, u'y'), ('frames', 16, 'data', 6, u'marker', u'size'), ('frames', 16, 'data', 6, u'text'), ('frames', 16, 'data', 6, u'x'), ('frames', 16, 'data', 6, u'y'), ('frames', 17, 'data', 0, u'marker', u'size'), ('frames', 17, 'data', 0, u'text'), ('frames', 17, 'data', 0, u'x'), ('frames', 17, 'data', 0, u'y'), ('frames', 17, 'data', 1, u'marker', u'size'), ('frames', 17, 'data', 1, u'text'), ('frames', 17, 'data', 1, u'x'), ('frames', 17, 'data', 1, u'y'), ('frames', 17, 'data', 2, u'marker', u'size'), ('frames', 17, 'data', 2, u'text'), ('frames', 17, 'data', 2, u'x'), ('frames', 17, 'data', 2, u'y'), ('frames', 17, 'data', 3, u'marker', u'size'), ('frames', 17, 'data', 3, u'text'), ('frames', 17, 'data', 3, u'x'), ('frames', 17, 'data', 3, u'y'), ('frames', 17, 'data', 4, u'marker', u'size'), ('frames', 17, 'data', 4, u'text'), ('frames', 17, 'data', 4, u'x'), ('frames', 17, 'data', 4, u'y'), ('frames', 17, 'data', 5, u'marker', u'size'), ('frames', 17, 'data', 5, u'text'), ('frames', 17, 'data', 5, u'x'), ('frames', 17, 'data', 5, u'y'), ('frames', 17, 'data', 6, u'marker', u'size'), ('frames', 17, 'data', 6, u'text'), ('frames', 17, 'data', 6, u'x'), ('frames', 17, 'data', 6, u'y'), ('frames', 18, 'data', 0, u'marker', u'size'), ('frames', 18, 'data', 0, u'text'), ('frames', 18, 'data', 0, u'x'), ('frames', 18, 'data', 0, u'y'), ('frames', 18, 'data', 1, u'marker', u'size'), ('frames', 18, 'data', 1, u'text'), ('frames', 18, 'data', 1, u'x'), ('frames', 18, 'data', 1, u'y'), ('frames', 18, 'data', 2, u'marker', u'size'), ('frames', 18, 'data', 2, u'text'), ('frames', 18, 'data', 2, u'x'), ('frames', 18, 'data', 2, u'y'), ('frames', 18, 'data', 3, u'marker', u'size'), ('frames', 18, 'data', 3, u'text'), ('frames', 18, 'data', 3, u'x'), ('frames', 18, 'data', 3, u'y'), ('frames', 18, 'data', 4, u'marker', u'size'), ('frames', 18, 'data', 4, u'text'), ('frames', 18, 'data', 4, u'x'), ('frames', 18, 'data', 4, u'y'), ('frames', 18, 'data', 5, u'marker', u'size'), ('frames', 18, 'data', 5, u'text'), ('frames', 18, 'data', 5, u'x'), ('frames', 18, 'data', 5, u'y'), ('frames', 18, 'data', 6, u'marker', u'size'), ('frames', 18, 'data', 6, u'text'), ('frames', 18, 'data', 6, u'x'), ('frames', 18, 'data', 6, u'y'), ('frames', 19, 'data', 0, u'marker', u'size'), ('frames', 19, 'data', 0, u'text'), ('frames', 19, 'data', 0, u'x'), ('frames', 19, 'data', 0, u'y'), ('frames', 19, 'data', 1, u'marker', u'size'), ('frames', 19, 'data', 1, u'text'), ('frames', 19, 'data', 1, u'x'), ('frames', 19, 'data', 1, u'y'), ('frames', 19, 'data', 2, u'marker', u'size'), ('frames', 19, 'data', 2, u'text'), ('frames', 19, 'data', 2, u'x'), ('frames', 19, 'data', 2, u'y'), ('frames', 19, 'data', 3, u'marker', u'size'), ('frames', 19, 'data', 3, u'text'), ('frames', 19, 'data', 3, u'x'), ('frames', 19, 'data', 3, u'y'), ('frames', 19, 'data', 4, u'marker', u'size'), ('frames', 19, 'data', 4, u'text'), ('frames', 19, 'data', 4, u'x'), ('frames', 19, 'data', 4, u'y'), ('frames', 19, 'data', 5, u'marker', u'size'), ('frames', 19, 'data', 5, u'text'), ('frames', 19, 'data', 5, u'x'), ('frames', 19, 'data', 5, u'y'), ('frames', 19, 'data', 6, u'marker', u'size'), ('frames', 19, 'data', 6, u'text'), ('frames', 19, 'data', 6, u'x'), ('frames', 19, 'data', 6, u'y'), ('frames', 20, 'data', 0, u'marker', u'size'), ('frames', 20, 'data', 0, u'text'), ('frames', 20, 'data', 0, u'x'), ('frames', 20, 'data', 0, u'y'), ('frames', 20, 'data', 1, u'marker', u'size'), ('frames', 20, 'data', 1, u'text'), ('frames', 20, 'data', 1, u'x'), ('frames', 20, 'data', 1, u'y'), ('frames', 20, 'data', 2, u'marker', u'size'), ('frames', 20, 'data', 2, u'text'), ('frames', 20, 'data', 2, u'x'), ('frames', 20, 'data', 2, u'y'), ('frames', 20, 'data', 3, u'marker', u'size'), ('frames', 20, 'data', 3, u'text'), ('frames', 20, 'data', 3, u'x'), ('frames', 20, 'data', 3, u'y'), ('frames', 20, 'data', 4, u'marker', u'size'), ('frames', 20, 'data', 4, u'text'), ('frames', 20, 'data', 4, u'x'), ('frames', 20, 'data', 4, u'y'), ('frames', 20, 'data', 5, u'marker', u'size'), ('frames', 20, 'data', 5, u'text'), ('frames', 20, 'data', 5, u'x'), ('frames', 20, 'data', 5, u'y'), ('frames', 20, 'data', 6, u'marker', u'size'), ('frames', 20, 'data', 6, u'text'), ('frames', 20, 'data', 6, u'x'), ('frames', 20, 'data', 6, u'y'), ('frames', 21, 'data', 0, u'marker', u'size'), ('frames', 21, 'data', 0, u'text'), ('frames', 21, 'data', 0, u'x'), ('frames', 21, 'data', 0, u'y'), ('frames', 21, 'data', 1, u'marker', u'size'), ('frames', 21, 'data', 1, u'text'), ('frames', 21, 'data', 1, u'x'), ('frames', 21, 'data', 1, u'y'), ('frames', 21, 'data', 2, u'marker', u'size'), ('frames', 21, 'data', 2, u'text'), ('frames', 21, 'data', 2, u'x'), ('frames', 21, 'data', 2, u'y'), ('frames', 21, 'data', 3, u'marker', u'size'), ('frames', 21, 'data', 3, u'text'), ('frames', 21, 'data', 3, u'x'), ('frames', 21, 'data', 3, u'y'), ('frames', 21, 'data', 4, u'marker', u'size'), ('frames', 21, 'data', 4, u'text'), ('frames', 21, 'data', 4, u'x'), ('frames', 21, 'data', 4, u'y'), ('frames', 21, 'data', 5, u'marker', u'size'), ('frames', 21, 'data', 5, u'text'), ('frames', 21, 'data', 5, u'x'), ('frames', 21, 'data', 5, u'y'), ('frames', 21, 'data', 6, u'marker', u'size'), ('frames', 21, 'data', 6, u'text'), ('frames', 21, 'data', 6, u'x'), ('frames', 21, 'data', 6, u'y'), ('frames', 22, 'data', 0, u'marker', u'size'), ('frames', 22, 'data', 0, u'text'), ('frames', 22, 'data', 0, u'x'), ('frames', 22, 'data', 0, u'y'), ('frames', 22, 'data', 1, u'marker', u'size'), ('frames', 22, 'data', 1, u'text'), ('frames', 22, 'data', 1, u'x'), ('frames', 22, 'data', 1, u'y'), ('frames', 22, 'data', 2, u'marker', u'size'), ('frames', 22, 'data', 2, u'text'), ('frames', 22, 'data', 2, u'x'), ('frames', 22, 'data', 2, u'y'), ('frames', 22, 'data', 3, u'marker', u'size'), ('frames', 22, 'data', 3, u'text'), ('frames', 22, 'data', 3, u'x'), ('frames', 22, 'data', 3, u'y'), ('frames', 22, 'data', 4, u'marker', u'size'), ('frames', 22, 'data', 4, u'text'), ('frames', 22, 'data', 4, u'x'), ('frames', 22, 'data', 4, u'y'), ('frames', 22, 'data', 5, u'marker', u'size'), ('frames', 22, 'data', 5, u'text'), ('frames', 22, 'data', 5, u'x'), ('frames', 22, 'data', 5, u'y'), ('frames', 22, 'data', 6, u'marker', u'size'), ('frames', 22, 'data', 6, u'text'), ('frames', 22, 'data', 6, u'x'), ('frames', 22, 'data', 6, u'y')]",
     "output_type": "error",
     "traceback": [
      "\u001b[0;31m---------------------------------------------------------------------------\u001b[0m",
      "\u001b[0;31mPlotlyRequestError\u001b[0m                        Traceback (most recent call last)",
      "\u001b[0;32m<ipython-input-56-aacc34c8d1ba>\u001b[0m in \u001b[0;36m<module>\u001b[0;34m()\u001b[0m\n\u001b[0;32m----> 1\u001b[0;31m \u001b[0mpy\u001b[0m\u001b[0;34m.\u001b[0m\u001b[0micreate_animations\u001b[0m\u001b[0;34m(\u001b[0m\u001b[0mfigure\u001b[0m\u001b[0;34m,\u001b[0m \u001b[0;34m'dataframe_ex_2'\u001b[0m\u001b[0;34m+\u001b[0m\u001b[0mstr\u001b[0m\u001b[0;34m(\u001b[0m\u001b[0mtime\u001b[0m\u001b[0;34m.\u001b[0m\u001b[0mtime\u001b[0m\u001b[0;34m(\u001b[0m\u001b[0;34m)\u001b[0m\u001b[0;34m)\u001b[0m\u001b[0;34m)\u001b[0m\u001b[0;34m\u001b[0m\u001b[0m\n\u001b[0m",
      "\u001b[0;32m/Users/jingsong/anaconda2/lib/python2.7/site-packages/plotly/plotly/plotly.pyc\u001b[0m in \u001b[0;36micreate_animations\u001b[0;34m(figure, filename, sharing, auto_open)\u001b[0m\n\u001b[1;32m   1818\u001b[0m     \u001b[0mcreate_animations\u001b[0m\u001b[0;34m`\u001b[0m \u001b[0mDoc\u001b[0m \u001b[0mString\u001b[0m \u001b[0;32mfor\u001b[0m \u001b[0mparam\u001b[0m \u001b[0mdescriptions\u001b[0m\u001b[0;34m.\u001b[0m\u001b[0;34m\u001b[0m\u001b[0m\n\u001b[1;32m   1819\u001b[0m     \"\"\"\n\u001b[0;32m-> 1820\u001b[0;31m     \u001b[0murl\u001b[0m \u001b[0;34m=\u001b[0m \u001b[0mcreate_animations\u001b[0m\u001b[0;34m(\u001b[0m\u001b[0mfigure\u001b[0m\u001b[0;34m,\u001b[0m \u001b[0mfilename\u001b[0m\u001b[0;34m,\u001b[0m \u001b[0msharing\u001b[0m\u001b[0;34m,\u001b[0m \u001b[0mauto_open\u001b[0m\u001b[0;34m)\u001b[0m\u001b[0;34m\u001b[0m\u001b[0m\n\u001b[0m\u001b[1;32m   1821\u001b[0m \u001b[0;34m\u001b[0m\u001b[0m\n\u001b[1;32m   1822\u001b[0m     \u001b[0;32mif\u001b[0m \u001b[0misinstance\u001b[0m\u001b[0;34m(\u001b[0m\u001b[0mfigure\u001b[0m\u001b[0;34m,\u001b[0m \u001b[0mdict\u001b[0m\u001b[0;34m)\u001b[0m\u001b[0;34m:\u001b[0m\u001b[0;34m\u001b[0m\u001b[0m\n",
      "\u001b[0;32m/Users/jingsong/anaconda2/lib/python2.7/site-packages/plotly/plotly/plotly.pyc\u001b[0m in \u001b[0;36mcreate_animations\u001b[0;34m(figure, filename, sharing, auto_open)\u001b[0m\n\u001b[1;32m   1796\u001b[0m         )\n\u001b[1;32m   1797\u001b[0m \u001b[0;34m\u001b[0m\u001b[0m\n\u001b[0;32m-> 1798\u001b[0;31m     \u001b[0mresponse\u001b[0m \u001b[0;34m=\u001b[0m \u001b[0mv2\u001b[0m\u001b[0;34m.\u001b[0m\u001b[0mplots\u001b[0m\u001b[0;34m.\u001b[0m\u001b[0mcreate\u001b[0m\u001b[0;34m(\u001b[0m\u001b[0mbody\u001b[0m\u001b[0;34m)\u001b[0m\u001b[0;34m\u001b[0m\u001b[0m\n\u001b[0m\u001b[1;32m   1799\u001b[0m     \u001b[0mparsed_content\u001b[0m \u001b[0;34m=\u001b[0m \u001b[0mresponse\u001b[0m\u001b[0;34m.\u001b[0m\u001b[0mjson\u001b[0m\u001b[0;34m(\u001b[0m\u001b[0;34m)\u001b[0m\u001b[0;34m\u001b[0m\u001b[0m\n\u001b[1;32m   1800\u001b[0m \u001b[0;34m\u001b[0m\u001b[0m\n",
      "\u001b[0;32m/Users/jingsong/anaconda2/lib/python2.7/site-packages/plotly/api/v2/plots.pyc\u001b[0m in \u001b[0;36mcreate\u001b[0;34m(body)\u001b[0m\n\u001b[1;32m     16\u001b[0m     \"\"\"\n\u001b[1;32m     17\u001b[0m     \u001b[0murl\u001b[0m \u001b[0;34m=\u001b[0m \u001b[0mbuild_url\u001b[0m\u001b[0;34m(\u001b[0m\u001b[0mRESOURCE\u001b[0m\u001b[0;34m)\u001b[0m\u001b[0;34m\u001b[0m\u001b[0m\n\u001b[0;32m---> 18\u001b[0;31m     \u001b[0;32mreturn\u001b[0m \u001b[0mrequest\u001b[0m\u001b[0;34m(\u001b[0m\u001b[0;34m'post'\u001b[0m\u001b[0;34m,\u001b[0m \u001b[0murl\u001b[0m\u001b[0;34m,\u001b[0m \u001b[0mjson\u001b[0m\u001b[0;34m=\u001b[0m\u001b[0mbody\u001b[0m\u001b[0;34m)\u001b[0m\u001b[0;34m\u001b[0m\u001b[0m\n\u001b[0m\u001b[1;32m     19\u001b[0m \u001b[0;34m\u001b[0m\u001b[0m\n\u001b[1;32m     20\u001b[0m \u001b[0;34m\u001b[0m\u001b[0m\n",
      "\u001b[0;32m/Users/jingsong/anaconda2/lib/python2.7/site-packages/plotly/api/v2/utils.pyc\u001b[0m in \u001b[0;36mrequest\u001b[0;34m(method, url, **kwargs)\u001b[0m\n\u001b[1;32m    151\u001b[0m         \u001b[0mcontent\u001b[0m \u001b[0;34m=\u001b[0m \u001b[0mresponse\u001b[0m\u001b[0;34m.\u001b[0m\u001b[0mcontent\u001b[0m \u001b[0;32mif\u001b[0m \u001b[0mresponse\u001b[0m \u001b[0;32melse\u001b[0m \u001b[0;34m'No content'\u001b[0m\u001b[0;34m\u001b[0m\u001b[0m\n\u001b[1;32m    152\u001b[0m         \u001b[0;32mraise\u001b[0m \u001b[0mexceptions\u001b[0m\u001b[0;34m.\u001b[0m\u001b[0mPlotlyRequestError\u001b[0m\u001b[0;34m(\u001b[0m\u001b[0mmessage\u001b[0m\u001b[0;34m,\u001b[0m \u001b[0mstatus_code\u001b[0m\u001b[0;34m,\u001b[0m \u001b[0mcontent\u001b[0m\u001b[0;34m)\u001b[0m\u001b[0;34m\u001b[0m\u001b[0m\n\u001b[0;32m--> 153\u001b[0;31m     \u001b[0mvalidate_response\u001b[0m\u001b[0;34m(\u001b[0m\u001b[0mresponse\u001b[0m\u001b[0;34m)\u001b[0m\u001b[0;34m\u001b[0m\u001b[0m\n\u001b[0m\u001b[1;32m    154\u001b[0m     \u001b[0;32mreturn\u001b[0m \u001b[0mresponse\u001b[0m\u001b[0;34m\u001b[0m\u001b[0m\n",
      "\u001b[0;32m/Users/jingsong/anaconda2/lib/python2.7/site-packages/plotly/api/v2/utils.pyc\u001b[0m in \u001b[0;36mvalidate_response\u001b[0;34m(response)\u001b[0m\n\u001b[1;32m     77\u001b[0m         \u001b[0mmessage\u001b[0m \u001b[0;34m=\u001b[0m \u001b[0mcontent\u001b[0m \u001b[0;32mif\u001b[0m \u001b[0mcontent\u001b[0m \u001b[0;32melse\u001b[0m \u001b[0;34m'No Content'\u001b[0m\u001b[0;34m\u001b[0m\u001b[0m\n\u001b[1;32m     78\u001b[0m \u001b[0;34m\u001b[0m\u001b[0m\n\u001b[0;32m---> 79\u001b[0;31m     \u001b[0;32mraise\u001b[0m \u001b[0mexceptions\u001b[0m\u001b[0;34m.\u001b[0m\u001b[0mPlotlyRequestError\u001b[0m\u001b[0;34m(\u001b[0m\u001b[0mmessage\u001b[0m\u001b[0;34m,\u001b[0m \u001b[0mstatus_code\u001b[0m\u001b[0;34m,\u001b[0m \u001b[0mcontent\u001b[0m\u001b[0;34m)\u001b[0m\u001b[0;34m\u001b[0m\u001b[0m\n\u001b[0m\u001b[1;32m     80\u001b[0m \u001b[0;34m\u001b[0m\u001b[0m\n\u001b[1;32m     81\u001b[0m \u001b[0;34m\u001b[0m\u001b[0m\n",
      "\u001b[0;31mPlotlyRequestError\u001b[0m: Figure field is invalid. Reason: Raw data arrays are not allowed at this endpoint. Use grid references instead. Raw data found at the following paths in the figure [('data', 0, u'marker', u'size'), ('data', 0, u'text'), ('data', 0, u'x'), ('data', 0, u'y'), ('data', 1, u'marker', u'size'), ('data', 1, u'text'), ('data', 1, u'x'), ('data', 1, u'y'), ('data', 2, u'marker', u'size'), ('data', 2, u'text'), ('data', 2, u'x'), ('data', 2, u'y'), ('data', 3, u'marker', u'size'), ('data', 3, u'text'), ('data', 3, u'x'), ('data', 3, u'y'), ('data', 4, u'marker', u'size'), ('data', 4, u'text'), ('data', 4, u'x'), ('data', 4, u'y'), ('data', 5, u'marker', u'size'), ('data', 5, u'text'), ('data', 5, u'x'), ('data', 5, u'y'), ('data', 6, u'marker', u'size'), ('data', 6, u'text'), ('data', 6, u'x'), ('data', 6, u'y'), ('frames', 0, 'data', 0, u'marker', u'size'), ('frames', 0, 'data', 0, u'text'), ('frames', 0, 'data', 0, u'x'), ('frames', 0, 'data', 0, u'y'), ('frames', 0, 'data', 1, u'marker', u'size'), ('frames', 0, 'data', 1, u'text'), ('frames', 0, 'data', 1, u'x'), ('frames', 0, 'data', 1, u'y'), ('frames', 0, 'data', 2, u'marker', u'size'), ('frames', 0, 'data', 2, u'text'), ('frames', 0, 'data', 2, u'x'), ('frames', 0, 'data', 2, u'y'), ('frames', 0, 'data', 3, u'marker', u'size'), ('frames', 0, 'data', 3, u'text'), ('frames', 0, 'data', 3, u'x'), ('frames', 0, 'data', 3, u'y'), ('frames', 0, 'data', 4, u'marker', u'size'), ('frames', 0, 'data', 4, u'text'), ('frames', 0, 'data', 4, u'x'), ('frames', 0, 'data', 4, u'y'), ('frames', 0, 'data', 5, u'marker', u'size'), ('frames', 0, 'data', 5, u'text'), ('frames', 0, 'data', 5, u'x'), ('frames', 0, 'data', 5, u'y'), ('frames', 0, 'data', 6, u'marker', u'size'), ('frames', 0, 'data', 6, u'text'), ('frames', 0, 'data', 6, u'x'), ('frames', 0, 'data', 6, u'y'), ('frames', 1, 'data', 0, u'marker', u'size'), ('frames', 1, 'data', 0, u'text'), ('frames', 1, 'data', 0, u'x'), ('frames', 1, 'data', 0, u'y'), ('frames', 1, 'data', 1, u'marker', u'size'), ('frames', 1, 'data', 1, u'text'), ('frames', 1, 'data', 1, u'x'), ('frames', 1, 'data', 1, u'y'), ('frames', 1, 'data', 2, u'marker', u'size'), ('frames', 1, 'data', 2, u'text'), ('frames', 1, 'data', 2, u'x'), ('frames', 1, 'data', 2, u'y'), ('frames', 1, 'data', 3, u'marker', u'size'), ('frames', 1, 'data', 3, u'text'), ('frames', 1, 'data', 3, u'x'), ('frames', 1, 'data', 3, u'y'), ('frames', 1, 'data', 4, u'marker', u'size'), ('frames', 1, 'data', 4, u'text'), ('frames', 1, 'data', 4, u'x'), ('frames', 1, 'data', 4, u'y'), ('frames', 1, 'data', 5, u'marker', u'size'), ('frames', 1, 'data', 5, u'text'), ('frames', 1, 'data', 5, u'x'), ('frames', 1, 'data', 5, u'y'), ('frames', 1, 'data', 6, u'marker', u'size'), ('frames', 1, 'data', 6, u'text'), ('frames', 1, 'data', 6, u'x'), ('frames', 1, 'data', 6, u'y'), ('frames', 2, 'data', 0, u'marker', u'size'), ('frames', 2, 'data', 0, u'text'), ('frames', 2, 'data', 0, u'x'), ('frames', 2, 'data', 0, u'y'), ('frames', 2, 'data', 1, u'marker', u'size'), ('frames', 2, 'data', 1, u'text'), ('frames', 2, 'data', 1, u'x'), ('frames', 2, 'data', 1, u'y'), ('frames', 2, 'data', 2, u'marker', u'size'), ('frames', 2, 'data', 2, u'text'), ('frames', 2, 'data', 2, u'x'), ('frames', 2, 'data', 2, u'y'), ('frames', 2, 'data', 3, u'marker', u'size'), ('frames', 2, 'data', 3, u'text'), ('frames', 2, 'data', 3, u'x'), ('frames', 2, 'data', 3, u'y'), ('frames', 2, 'data', 4, u'marker', u'size'), ('frames', 2, 'data', 4, u'text'), ('frames', 2, 'data', 4, u'x'), ('frames', 2, 'data', 4, u'y'), ('frames', 2, 'data', 5, u'marker', u'size'), ('frames', 2, 'data', 5, u'text'), ('frames', 2, 'data', 5, u'x'), ('frames', 2, 'data', 5, u'y'), ('frames', 2, 'data', 6, u'marker', u'size'), ('frames', 2, 'data', 6, u'text'), ('frames', 2, 'data', 6, u'x'), ('frames', 2, 'data', 6, u'y'), ('frames', 3, 'data', 0, u'marker', u'size'), ('frames', 3, 'data', 0, u'text'), ('frames', 3, 'data', 0, u'x'), ('frames', 3, 'data', 0, u'y'), ('frames', 3, 'data', 1, u'marker', u'size'), ('frames', 3, 'data', 1, u'text'), ('frames', 3, 'data', 1, u'x'), ('frames', 3, 'data', 1, u'y'), ('frames', 3, 'data', 2, u'marker', u'size'), ('frames', 3, 'data', 2, u'text'), ('frames', 3, 'data', 2, u'x'), ('frames', 3, 'data', 2, u'y'), ('frames', 3, 'data', 3, u'marker', u'size'), ('frames', 3, 'data', 3, u'text'), ('frames', 3, 'data', 3, u'x'), ('frames', 3, 'data', 3, u'y'), ('frames', 3, 'data', 4, u'marker', u'size'), ('frames', 3, 'data', 4, u'text'), ('frames', 3, 'data', 4, u'x'), ('frames', 3, 'data', 4, u'y'), ('frames', 3, 'data', 5, u'marker', u'size'), ('frames', 3, 'data', 5, u'text'), ('frames', 3, 'data', 5, u'x'), ('frames', 3, 'data', 5, u'y'), ('frames', 3, 'data', 6, u'marker', u'size'), ('frames', 3, 'data', 6, u'text'), ('frames', 3, 'data', 6, u'x'), ('frames', 3, 'data', 6, u'y'), ('frames', 4, 'data', 0, u'marker', u'size'), ('frames', 4, 'data', 0, u'text'), ('frames', 4, 'data', 0, u'x'), ('frames', 4, 'data', 0, u'y'), ('frames', 4, 'data', 1, u'marker', u'size'), ('frames', 4, 'data', 1, u'text'), ('frames', 4, 'data', 1, u'x'), ('frames', 4, 'data', 1, u'y'), ('frames', 4, 'data', 2, u'marker', u'size'), ('frames', 4, 'data', 2, u'text'), ('frames', 4, 'data', 2, u'x'), ('frames', 4, 'data', 2, u'y'), ('frames', 4, 'data', 3, u'marker', u'size'), ('frames', 4, 'data', 3, u'text'), ('frames', 4, 'data', 3, u'x'), ('frames', 4, 'data', 3, u'y'), ('frames', 4, 'data', 4, u'marker', u'size'), ('frames', 4, 'data', 4, u'text'), ('frames', 4, 'data', 4, u'x'), ('frames', 4, 'data', 4, u'y'), ('frames', 4, 'data', 5, u'marker', u'size'), ('frames', 4, 'data', 5, u'text'), ('frames', 4, 'data', 5, u'x'), ('frames', 4, 'data', 5, u'y'), ('frames', 4, 'data', 6, u'marker', u'size'), ('frames', 4, 'data', 6, u'text'), ('frames', 4, 'data', 6, u'x'), ('frames', 4, 'data', 6, u'y'), ('frames', 5, 'data', 0, u'marker', u'size'), ('frames', 5, 'data', 0, u'text'), ('frames', 5, 'data', 0, u'x'), ('frames', 5, 'data', 0, u'y'), ('frames', 5, 'data', 1, u'marker', u'size'), ('frames', 5, 'data', 1, u'text'), ('frames', 5, 'data', 1, u'x'), ('frames', 5, 'data', 1, u'y'), ('frames', 5, 'data', 2, u'marker', u'size'), ('frames', 5, 'data', 2, u'text'), ('frames', 5, 'data', 2, u'x'), ('frames', 5, 'data', 2, u'y'), ('frames', 5, 'data', 3, u'marker', u'size'), ('frames', 5, 'data', 3, u'text'), ('frames', 5, 'data', 3, u'x'), ('frames', 5, 'data', 3, u'y'), ('frames', 5, 'data', 4, u'marker', u'size'), ('frames', 5, 'data', 4, u'text'), ('frames', 5, 'data', 4, u'x'), ('frames', 5, 'data', 4, u'y'), ('frames', 5, 'data', 5, u'marker', u'size'), ('frames', 5, 'data', 5, u'text'), ('frames', 5, 'data', 5, u'x'), ('frames', 5, 'data', 5, u'y'), ('frames', 5, 'data', 6, u'marker', u'size'), ('frames', 5, 'data', 6, u'text'), ('frames', 5, 'data', 6, u'x'), ('frames', 5, 'data', 6, u'y'), ('frames', 6, 'data', 0, u'marker', u'size'), ('frames', 6, 'data', 0, u'text'), ('frames', 6, 'data', 0, u'x'), ('frames', 6, 'data', 0, u'y'), ('frames', 6, 'data', 1, u'marker', u'size'), ('frames', 6, 'data', 1, u'text'), ('frames', 6, 'data', 1, u'x'), ('frames', 6, 'data', 1, u'y'), ('frames', 6, 'data', 2, u'marker', u'size'), ('frames', 6, 'data', 2, u'text'), ('frames', 6, 'data', 2, u'x'), ('frames', 6, 'data', 2, u'y'), ('frames', 6, 'data', 3, u'marker', u'size'), ('frames', 6, 'data', 3, u'text'), ('frames', 6, 'data', 3, u'x'), ('frames', 6, 'data', 3, u'y'), ('frames', 6, 'data', 4, u'marker', u'size'), ('frames', 6, 'data', 4, u'text'), ('frames', 6, 'data', 4, u'x'), ('frames', 6, 'data', 4, u'y'), ('frames', 6, 'data', 5, u'marker', u'size'), ('frames', 6, 'data', 5, u'text'), ('frames', 6, 'data', 5, u'x'), ('frames', 6, 'data', 5, u'y'), ('frames', 6, 'data', 6, u'marker', u'size'), ('frames', 6, 'data', 6, u'text'), ('frames', 6, 'data', 6, u'x'), ('frames', 6, 'data', 6, u'y'), ('frames', 7, 'data', 0, u'marker', u'size'), ('frames', 7, 'data', 0, u'text'), ('frames', 7, 'data', 0, u'x'), ('frames', 7, 'data', 0, u'y'), ('frames', 7, 'data', 1, u'marker', u'size'), ('frames', 7, 'data', 1, u'text'), ('frames', 7, 'data', 1, u'x'), ('frames', 7, 'data', 1, u'y'), ('frames', 7, 'data', 2, u'marker', u'size'), ('frames', 7, 'data', 2, u'text'), ('frames', 7, 'data', 2, u'x'), ('frames', 7, 'data', 2, u'y'), ('frames', 7, 'data', 3, u'marker', u'size'), ('frames', 7, 'data', 3, u'text'), ('frames', 7, 'data', 3, u'x'), ('frames', 7, 'data', 3, u'y'), ('frames', 7, 'data', 4, u'marker', u'size'), ('frames', 7, 'data', 4, u'text'), ('frames', 7, 'data', 4, u'x'), ('frames', 7, 'data', 4, u'y'), ('frames', 7, 'data', 5, u'marker', u'size'), ('frames', 7, 'data', 5, u'text'), ('frames', 7, 'data', 5, u'x'), ('frames', 7, 'data', 5, u'y'), ('frames', 7, 'data', 6, u'marker', u'size'), ('frames', 7, 'data', 6, u'text'), ('frames', 7, 'data', 6, u'x'), ('frames', 7, 'data', 6, u'y'), ('frames', 8, 'data', 0, u'marker', u'size'), ('frames', 8, 'data', 0, u'text'), ('frames', 8, 'data', 0, u'x'), ('frames', 8, 'data', 0, u'y'), ('frames', 8, 'data', 1, u'marker', u'size'), ('frames', 8, 'data', 1, u'text'), ('frames', 8, 'data', 1, u'x'), ('frames', 8, 'data', 1, u'y'), ('frames', 8, 'data', 2, u'marker', u'size'), ('frames', 8, 'data', 2, u'text'), ('frames', 8, 'data', 2, u'x'), ('frames', 8, 'data', 2, u'y'), ('frames', 8, 'data', 3, u'marker', u'size'), ('frames', 8, 'data', 3, u'text'), ('frames', 8, 'data', 3, u'x'), ('frames', 8, 'data', 3, u'y'), ('frames', 8, 'data', 4, u'marker', u'size'), ('frames', 8, 'data', 4, u'text'), ('frames', 8, 'data', 4, u'x'), ('frames', 8, 'data', 4, u'y'), ('frames', 8, 'data', 5, u'marker', u'size'), ('frames', 8, 'data', 5, u'text'), ('frames', 8, 'data', 5, u'x'), ('frames', 8, 'data', 5, u'y'), ('frames', 8, 'data', 6, u'marker', u'size'), ('frames', 8, 'data', 6, u'text'), ('frames', 8, 'data', 6, u'x'), ('frames', 8, 'data', 6, u'y'), ('frames', 9, 'data', 0, u'marker', u'size'), ('frames', 9, 'data', 0, u'text'), ('frames', 9, 'data', 0, u'x'), ('frames', 9, 'data', 0, u'y'), ('frames', 9, 'data', 1, u'marker', u'size'), ('frames', 9, 'data', 1, u'text'), ('frames', 9, 'data', 1, u'x'), ('frames', 9, 'data', 1, u'y'), ('frames', 9, 'data', 2, u'marker', u'size'), ('frames', 9, 'data', 2, u'text'), ('frames', 9, 'data', 2, u'x'), ('frames', 9, 'data', 2, u'y'), ('frames', 9, 'data', 3, u'marker', u'size'), ('frames', 9, 'data', 3, u'text'), ('frames', 9, 'data', 3, u'x'), ('frames', 9, 'data', 3, u'y'), ('frames', 9, 'data', 4, u'marker', u'size'), ('frames', 9, 'data', 4, u'text'), ('frames', 9, 'data', 4, u'x'), ('frames', 9, 'data', 4, u'y'), ('frames', 9, 'data', 5, u'marker', u'size'), ('frames', 9, 'data', 5, u'text'), ('frames', 9, 'data', 5, u'x'), ('frames', 9, 'data', 5, u'y'), ('frames', 9, 'data', 6, u'marker', u'size'), ('frames', 9, 'data', 6, u'text'), ('frames', 9, 'data', 6, u'x'), ('frames', 9, 'data', 6, u'y'), ('frames', 10, 'data', 0, u'marker', u'size'), ('frames', 10, 'data', 0, u'text'), ('frames', 10, 'data', 0, u'x'), ('frames', 10, 'data', 0, u'y'), ('frames', 10, 'data', 1, u'marker', u'size'), ('frames', 10, 'data', 1, u'text'), ('frames', 10, 'data', 1, u'x'), ('frames', 10, 'data', 1, u'y'), ('frames', 10, 'data', 2, u'marker', u'size'), ('frames', 10, 'data', 2, u'text'), ('frames', 10, 'data', 2, u'x'), ('frames', 10, 'data', 2, u'y'), ('frames', 10, 'data', 3, u'marker', u'size'), ('frames', 10, 'data', 3, u'text'), ('frames', 10, 'data', 3, u'x'), ('frames', 10, 'data', 3, u'y'), ('frames', 10, 'data', 4, u'marker', u'size'), ('frames', 10, 'data', 4, u'text'), ('frames', 10, 'data', 4, u'x'), ('frames', 10, 'data', 4, u'y'), ('frames', 10, 'data', 5, u'marker', u'size'), ('frames', 10, 'data', 5, u'text'), ('frames', 10, 'data', 5, u'x'), ('frames', 10, 'data', 5, u'y'), ('frames', 10, 'data', 6, u'marker', u'size'), ('frames', 10, 'data', 6, u'text'), ('frames', 10, 'data', 6, u'x'), ('frames', 10, 'data', 6, u'y'), ('frames', 11, 'data', 0, u'marker', u'size'), ('frames', 11, 'data', 0, u'text'), ('frames', 11, 'data', 0, u'x'), ('frames', 11, 'data', 0, u'y'), ('frames', 11, 'data', 1, u'marker', u'size'), ('frames', 11, 'data', 1, u'text'), ('frames', 11, 'data', 1, u'x'), ('frames', 11, 'data', 1, u'y'), ('frames', 11, 'data', 2, u'marker', u'size'), ('frames', 11, 'data', 2, u'text'), ('frames', 11, 'data', 2, u'x'), ('frames', 11, 'data', 2, u'y'), ('frames', 11, 'data', 3, u'marker', u'size'), ('frames', 11, 'data', 3, u'text'), ('frames', 11, 'data', 3, u'x'), ('frames', 11, 'data', 3, u'y'), ('frames', 11, 'data', 4, u'marker', u'size'), ('frames', 11, 'data', 4, u'text'), ('frames', 11, 'data', 4, u'x'), ('frames', 11, 'data', 4, u'y'), ('frames', 11, 'data', 5, u'marker', u'size'), ('frames', 11, 'data', 5, u'text'), ('frames', 11, 'data', 5, u'x'), ('frames', 11, 'data', 5, u'y'), ('frames', 11, 'data', 6, u'marker', u'size'), ('frames', 11, 'data', 6, u'text'), ('frames', 11, 'data', 6, u'x'), ('frames', 11, 'data', 6, u'y'), ('frames', 12, 'data', 0, u'marker', u'size'), ('frames', 12, 'data', 0, u'text'), ('frames', 12, 'data', 0, u'x'), ('frames', 12, 'data', 0, u'y'), ('frames', 12, 'data', 1, u'marker', u'size'), ('frames', 12, 'data', 1, u'text'), ('frames', 12, 'data', 1, u'x'), ('frames', 12, 'data', 1, u'y'), ('frames', 12, 'data', 2, u'marker', u'size'), ('frames', 12, 'data', 2, u'text'), ('frames', 12, 'data', 2, u'x'), ('frames', 12, 'data', 2, u'y'), ('frames', 12, 'data', 3, u'marker', u'size'), ('frames', 12, 'data', 3, u'text'), ('frames', 12, 'data', 3, u'x'), ('frames', 12, 'data', 3, u'y'), ('frames', 12, 'data', 4, u'marker', u'size'), ('frames', 12, 'data', 4, u'text'), ('frames', 12, 'data', 4, u'x'), ('frames', 12, 'data', 4, u'y'), ('frames', 12, 'data', 5, u'marker', u'size'), ('frames', 12, 'data', 5, u'text'), ('frames', 12, 'data', 5, u'x'), ('frames', 12, 'data', 5, u'y'), ('frames', 12, 'data', 6, u'marker', u'size'), ('frames', 12, 'data', 6, u'text'), ('frames', 12, 'data', 6, u'x'), ('frames', 12, 'data', 6, u'y'), ('frames', 13, 'data', 0, u'marker', u'size'), ('frames', 13, 'data', 0, u'text'), ('frames', 13, 'data', 0, u'x'), ('frames', 13, 'data', 0, u'y'), ('frames', 13, 'data', 1, u'marker', u'size'), ('frames', 13, 'data', 1, u'text'), ('frames', 13, 'data', 1, u'x'), ('frames', 13, 'data', 1, u'y'), ('frames', 13, 'data', 2, u'marker', u'size'), ('frames', 13, 'data', 2, u'text'), ('frames', 13, 'data', 2, u'x'), ('frames', 13, 'data', 2, u'y'), ('frames', 13, 'data', 3, u'marker', u'size'), ('frames', 13, 'data', 3, u'text'), ('frames', 13, 'data', 3, u'x'), ('frames', 13, 'data', 3, u'y'), ('frames', 13, 'data', 4, u'marker', u'size'), ('frames', 13, 'data', 4, u'text'), ('frames', 13, 'data', 4, u'x'), ('frames', 13, 'data', 4, u'y'), ('frames', 13, 'data', 5, u'marker', u'size'), ('frames', 13, 'data', 5, u'text'), ('frames', 13, 'data', 5, u'x'), ('frames', 13, 'data', 5, u'y'), ('frames', 13, 'data', 6, u'marker', u'size'), ('frames', 13, 'data', 6, u'text'), ('frames', 13, 'data', 6, u'x'), ('frames', 13, 'data', 6, u'y'), ('frames', 14, 'data', 0, u'marker', u'size'), ('frames', 14, 'data', 0, u'text'), ('frames', 14, 'data', 0, u'x'), ('frames', 14, 'data', 0, u'y'), ('frames', 14, 'data', 1, u'marker', u'size'), ('frames', 14, 'data', 1, u'text'), ('frames', 14, 'data', 1, u'x'), ('frames', 14, 'data', 1, u'y'), ('frames', 14, 'data', 2, u'marker', u'size'), ('frames', 14, 'data', 2, u'text'), ('frames', 14, 'data', 2, u'x'), ('frames', 14, 'data', 2, u'y'), ('frames', 14, 'data', 3, u'marker', u'size'), ('frames', 14, 'data', 3, u'text'), ('frames', 14, 'data', 3, u'x'), ('frames', 14, 'data', 3, u'y'), ('frames', 14, 'data', 4, u'marker', u'size'), ('frames', 14, 'data', 4, u'text'), ('frames', 14, 'data', 4, u'x'), ('frames', 14, 'data', 4, u'y'), ('frames', 14, 'data', 5, u'marker', u'size'), ('frames', 14, 'data', 5, u'text'), ('frames', 14, 'data', 5, u'x'), ('frames', 14, 'data', 5, u'y'), ('frames', 14, 'data', 6, u'marker', u'size'), ('frames', 14, 'data', 6, u'text'), ('frames', 14, 'data', 6, u'x'), ('frames', 14, 'data', 6, u'y'), ('frames', 15, 'data', 0, u'marker', u'size'), ('frames', 15, 'data', 0, u'text'), ('frames', 15, 'data', 0, u'x'), ('frames', 15, 'data', 0, u'y'), ('frames', 15, 'data', 1, u'marker', u'size'), ('frames', 15, 'data', 1, u'text'), ('frames', 15, 'data', 1, u'x'), ('frames', 15, 'data', 1, u'y'), ('frames', 15, 'data', 2, u'marker', u'size'), ('frames', 15, 'data', 2, u'text'), ('frames', 15, 'data', 2, u'x'), ('frames', 15, 'data', 2, u'y'), ('frames', 15, 'data', 3, u'marker', u'size'), ('frames', 15, 'data', 3, u'text'), ('frames', 15, 'data', 3, u'x'), ('frames', 15, 'data', 3, u'y'), ('frames', 15, 'data', 4, u'marker', u'size'), ('frames', 15, 'data', 4, u'text'), ('frames', 15, 'data', 4, u'x'), ('frames', 15, 'data', 4, u'y'), ('frames', 15, 'data', 5, u'marker', u'size'), ('frames', 15, 'data', 5, u'text'), ('frames', 15, 'data', 5, u'x'), ('frames', 15, 'data', 5, u'y'), ('frames', 15, 'data', 6, u'marker', u'size'), ('frames', 15, 'data', 6, u'text'), ('frames', 15, 'data', 6, u'x'), ('frames', 15, 'data', 6, u'y'), ('frames', 16, 'data', 0, u'marker', u'size'), ('frames', 16, 'data', 0, u'text'), ('frames', 16, 'data', 0, u'x'), ('frames', 16, 'data', 0, u'y'), ('frames', 16, 'data', 1, u'marker', u'size'), ('frames', 16, 'data', 1, u'text'), ('frames', 16, 'data', 1, u'x'), ('frames', 16, 'data', 1, u'y'), ('frames', 16, 'data', 2, u'marker', u'size'), ('frames', 16, 'data', 2, u'text'), ('frames', 16, 'data', 2, u'x'), ('frames', 16, 'data', 2, u'y'), ('frames', 16, 'data', 3, u'marker', u'size'), ('frames', 16, 'data', 3, u'text'), ('frames', 16, 'data', 3, u'x'), ('frames', 16, 'data', 3, u'y'), ('frames', 16, 'data', 4, u'marker', u'size'), ('frames', 16, 'data', 4, u'text'), ('frames', 16, 'data', 4, u'x'), ('frames', 16, 'data', 4, u'y'), ('frames', 16, 'data', 5, u'marker', u'size'), ('frames', 16, 'data', 5, u'text'), ('frames', 16, 'data', 5, u'x'), ('frames', 16, 'data', 5, u'y'), ('frames', 16, 'data', 6, u'marker', u'size'), ('frames', 16, 'data', 6, u'text'), ('frames', 16, 'data', 6, u'x'), ('frames', 16, 'data', 6, u'y'), ('frames', 17, 'data', 0, u'marker', u'size'), ('frames', 17, 'data', 0, u'text'), ('frames', 17, 'data', 0, u'x'), ('frames', 17, 'data', 0, u'y'), ('frames', 17, 'data', 1, u'marker', u'size'), ('frames', 17, 'data', 1, u'text'), ('frames', 17, 'data', 1, u'x'), ('frames', 17, 'data', 1, u'y'), ('frames', 17, 'data', 2, u'marker', u'size'), ('frames', 17, 'data', 2, u'text'), ('frames', 17, 'data', 2, u'x'), ('frames', 17, 'data', 2, u'y'), ('frames', 17, 'data', 3, u'marker', u'size'), ('frames', 17, 'data', 3, u'text'), ('frames', 17, 'data', 3, u'x'), ('frames', 17, 'data', 3, u'y'), ('frames', 17, 'data', 4, u'marker', u'size'), ('frames', 17, 'data', 4, u'text'), ('frames', 17, 'data', 4, u'x'), ('frames', 17, 'data', 4, u'y'), ('frames', 17, 'data', 5, u'marker', u'size'), ('frames', 17, 'data', 5, u'text'), ('frames', 17, 'data', 5, u'x'), ('frames', 17, 'data', 5, u'y'), ('frames', 17, 'data', 6, u'marker', u'size'), ('frames', 17, 'data', 6, u'text'), ('frames', 17, 'data', 6, u'x'), ('frames', 17, 'data', 6, u'y'), ('frames', 18, 'data', 0, u'marker', u'size'), ('frames', 18, 'data', 0, u'text'), ('frames', 18, 'data', 0, u'x'), ('frames', 18, 'data', 0, u'y'), ('frames', 18, 'data', 1, u'marker', u'size'), ('frames', 18, 'data', 1, u'text'), ('frames', 18, 'data', 1, u'x'), ('frames', 18, 'data', 1, u'y'), ('frames', 18, 'data', 2, u'marker', u'size'), ('frames', 18, 'data', 2, u'text'), ('frames', 18, 'data', 2, u'x'), ('frames', 18, 'data', 2, u'y'), ('frames', 18, 'data', 3, u'marker', u'size'), ('frames', 18, 'data', 3, u'text'), ('frames', 18, 'data', 3, u'x'), ('frames', 18, 'data', 3, u'y'), ('frames', 18, 'data', 4, u'marker', u'size'), ('frames', 18, 'data', 4, u'text'), ('frames', 18, 'data', 4, u'x'), ('frames', 18, 'data', 4, u'y'), ('frames', 18, 'data', 5, u'marker', u'size'), ('frames', 18, 'data', 5, u'text'), ('frames', 18, 'data', 5, u'x'), ('frames', 18, 'data', 5, u'y'), ('frames', 18, 'data', 6, u'marker', u'size'), ('frames', 18, 'data', 6, u'text'), ('frames', 18, 'data', 6, u'x'), ('frames', 18, 'data', 6, u'y'), ('frames', 19, 'data', 0, u'marker', u'size'), ('frames', 19, 'data', 0, u'text'), ('frames', 19, 'data', 0, u'x'), ('frames', 19, 'data', 0, u'y'), ('frames', 19, 'data', 1, u'marker', u'size'), ('frames', 19, 'data', 1, u'text'), ('frames', 19, 'data', 1, u'x'), ('frames', 19, 'data', 1, u'y'), ('frames', 19, 'data', 2, u'marker', u'size'), ('frames', 19, 'data', 2, u'text'), ('frames', 19, 'data', 2, u'x'), ('frames', 19, 'data', 2, u'y'), ('frames', 19, 'data', 3, u'marker', u'size'), ('frames', 19, 'data', 3, u'text'), ('frames', 19, 'data', 3, u'x'), ('frames', 19, 'data', 3, u'y'), ('frames', 19, 'data', 4, u'marker', u'size'), ('frames', 19, 'data', 4, u'text'), ('frames', 19, 'data', 4, u'x'), ('frames', 19, 'data', 4, u'y'), ('frames', 19, 'data', 5, u'marker', u'size'), ('frames', 19, 'data', 5, u'text'), ('frames', 19, 'data', 5, u'x'), ('frames', 19, 'data', 5, u'y'), ('frames', 19, 'data', 6, u'marker', u'size'), ('frames', 19, 'data', 6, u'text'), ('frames', 19, 'data', 6, u'x'), ('frames', 19, 'data', 6, u'y'), ('frames', 20, 'data', 0, u'marker', u'size'), ('frames', 20, 'data', 0, u'text'), ('frames', 20, 'data', 0, u'x'), ('frames', 20, 'data', 0, u'y'), ('frames', 20, 'data', 1, u'marker', u'size'), ('frames', 20, 'data', 1, u'text'), ('frames', 20, 'data', 1, u'x'), ('frames', 20, 'data', 1, u'y'), ('frames', 20, 'data', 2, u'marker', u'size'), ('frames', 20, 'data', 2, u'text'), ('frames', 20, 'data', 2, u'x'), ('frames', 20, 'data', 2, u'y'), ('frames', 20, 'data', 3, u'marker', u'size'), ('frames', 20, 'data', 3, u'text'), ('frames', 20, 'data', 3, u'x'), ('frames', 20, 'data', 3, u'y'), ('frames', 20, 'data', 4, u'marker', u'size'), ('frames', 20, 'data', 4, u'text'), ('frames', 20, 'data', 4, u'x'), ('frames', 20, 'data', 4, u'y'), ('frames', 20, 'data', 5, u'marker', u'size'), ('frames', 20, 'data', 5, u'text'), ('frames', 20, 'data', 5, u'x'), ('frames', 20, 'data', 5, u'y'), ('frames', 20, 'data', 6, u'marker', u'size'), ('frames', 20, 'data', 6, u'text'), ('frames', 20, 'data', 6, u'x'), ('frames', 20, 'data', 6, u'y'), ('frames', 21, 'data', 0, u'marker', u'size'), ('frames', 21, 'data', 0, u'text'), ('frames', 21, 'data', 0, u'x'), ('frames', 21, 'data', 0, u'y'), ('frames', 21, 'data', 1, u'marker', u'size'), ('frames', 21, 'data', 1, u'text'), ('frames', 21, 'data', 1, u'x'), ('frames', 21, 'data', 1, u'y'), ('frames', 21, 'data', 2, u'marker', u'size'), ('frames', 21, 'data', 2, u'text'), ('frames', 21, 'data', 2, u'x'), ('frames', 21, 'data', 2, u'y'), ('frames', 21, 'data', 3, u'marker', u'size'), ('frames', 21, 'data', 3, u'text'), ('frames', 21, 'data', 3, u'x'), ('frames', 21, 'data', 3, u'y'), ('frames', 21, 'data', 4, u'marker', u'size'), ('frames', 21, 'data', 4, u'text'), ('frames', 21, 'data', 4, u'x'), ('frames', 21, 'data', 4, u'y'), ('frames', 21, 'data', 5, u'marker', u'size'), ('frames', 21, 'data', 5, u'text'), ('frames', 21, 'data', 5, u'x'), ('frames', 21, 'data', 5, u'y'), ('frames', 21, 'data', 6, u'marker', u'size'), ('frames', 21, 'data', 6, u'text'), ('frames', 21, 'data', 6, u'x'), ('frames', 21, 'data', 6, u'y'), ('frames', 22, 'data', 0, u'marker', u'size'), ('frames', 22, 'data', 0, u'text'), ('frames', 22, 'data', 0, u'x'), ('frames', 22, 'data', 0, u'y'), ('frames', 22, 'data', 1, u'marker', u'size'), ('frames', 22, 'data', 1, u'text'), ('frames', 22, 'data', 1, u'x'), ('frames', 22, 'data', 1, u'y'), ('frames', 22, 'data', 2, u'marker', u'size'), ('frames', 22, 'data', 2, u'text'), ('frames', 22, 'data', 2, u'x'), ('frames', 22, 'data', 2, u'y'), ('frames', 22, 'data', 3, u'marker', u'size'), ('frames', 22, 'data', 3, u'text'), ('frames', 22, 'data', 3, u'x'), ('frames', 22, 'data', 3, u'y'), ('frames', 22, 'data', 4, u'marker', u'size'), ('frames', 22, 'data', 4, u'text'), ('frames', 22, 'data', 4, u'x'), ('frames', 22, 'data', 4, u'y'), ('frames', 22, 'data', 5, u'marker', u'size'), ('frames', 22, 'data', 5, u'text'), ('frames', 22, 'data', 5, u'x'), ('frames', 22, 'data', 5, u'y'), ('frames', 22, 'data', 6, u'marker', u'size'), ('frames', 22, 'data', 6, u'text'), ('frames', 22, 'data', 6, u'x'), ('frames', 22, 'data', 6, u'y')]"
     ]
    }
   ],
   "source": [
    "py.icreate_animations(figure, 'dataframe_ex_2'+str(time.time()))"
   ]
  },
  {
   "cell_type": "code",
   "execution_count": null,
   "metadata": {
    "collapsed": true
   },
   "outputs": [],
   "source": []
  }
 ],
 "metadata": {
  "kernelspec": {
   "display_name": "Python 2",
   "language": "python",
   "name": "python2"
  },
  "language_info": {
   "codemirror_mode": {
    "name": "ipython",
    "version": 2
   },
   "file_extension": ".py",
   "mimetype": "text/x-python",
   "name": "python",
   "nbconvert_exporter": "python",
   "pygments_lexer": "ipython2",
   "version": "2.7.13"
  }
 },
 "nbformat": 4,
 "nbformat_minor": 2
}
